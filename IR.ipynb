{
 "cells": [
  {
   "cell_type": "code",
   "execution_count": 1,
   "id": "840661ec-ad78-4527-a5ac-4a9e24129f0b",
   "metadata": {},
   "outputs": [
    {
     "name": "stderr",
     "output_type": "stream",
     "text": [
      "\n",
      "Bad key text.latex.preview in file c:\\users\\mutla\\anaconda3\\venv\\lib\\site-packages\\matplotlib\\mpl-data\\stylelib\\_classic_test.mplstyle, line 123 ('text.latex.preview : False')\n",
      "You probably need to get an updated matplotlibrc file from\n",
      "https://github.com/matplotlib/matplotlib/blob/v3.5.1/matplotlibrc.template\n",
      "or from the matplotlib source distribution\n",
      "\n",
      "Bad key mathtext.fallback_to_cm in file c:\\users\\mutla\\anaconda3\\venv\\lib\\site-packages\\matplotlib\\mpl-data\\stylelib\\_classic_test.mplstyle, line 155 ('mathtext.fallback_to_cm : True  # When True, use symbols from the Computer Modern')\n",
      "You probably need to get an updated matplotlibrc file from\n",
      "https://github.com/matplotlib/matplotlib/blob/v3.5.1/matplotlibrc.template\n",
      "or from the matplotlib source distribution\n",
      "\n",
      "Bad key savefig.jpeg_quality in file c:\\users\\mutla\\anaconda3\\venv\\lib\\site-packages\\matplotlib\\mpl-data\\stylelib\\_classic_test.mplstyle, line 418 ('savefig.jpeg_quality: 95       # when a jpeg is saved, the default quality parameter.')\n",
      "You probably need to get an updated matplotlibrc file from\n",
      "https://github.com/matplotlib/matplotlib/blob/v3.5.1/matplotlibrc.template\n",
      "or from the matplotlib source distribution\n",
      "\n",
      "Bad key keymap.all_axes in file c:\\users\\mutla\\anaconda3\\venv\\lib\\site-packages\\matplotlib\\mpl-data\\stylelib\\_classic_test.mplstyle, line 466 ('keymap.all_axes : a                 # enable all axes')\n",
      "You probably need to get an updated matplotlibrc file from\n",
      "https://github.com/matplotlib/matplotlib/blob/v3.5.1/matplotlibrc.template\n",
      "or from the matplotlib source distribution\n",
      "\n",
      "Bad key animation.avconv_path in file c:\\users\\mutla\\anaconda3\\venv\\lib\\site-packages\\matplotlib\\mpl-data\\stylelib\\_classic_test.mplstyle, line 477 ('animation.avconv_path: avconv     # Path to avconv binary. Without full path')\n",
      "You probably need to get an updated matplotlibrc file from\n",
      "https://github.com/matplotlib/matplotlib/blob/v3.5.1/matplotlibrc.template\n",
      "or from the matplotlib source distribution\n",
      "\n",
      "Bad key animation.avconv_args in file c:\\users\\mutla\\anaconda3\\venv\\lib\\site-packages\\matplotlib\\mpl-data\\stylelib\\_classic_test.mplstyle, line 479 ('animation.avconv_args:            # Additional arguments to pass to avconv')\n",
      "You probably need to get an updated matplotlibrc file from\n",
      "https://github.com/matplotlib/matplotlib/blob/v3.5.1/matplotlibrc.template\n",
      "or from the matplotlib source distribution\n"
     ]
    }
   ],
   "source": [
    "import nltk, re, pprint, string\n",
    "from nltk import word_tokenize, sent_tokenize\n",
    "from nltk.util import ngrams\n",
    "from nltk import trigrams\n",
    "from nltk.stem.porter import * \n",
    "stemmer = PorterStemmer()\n",
    "import pandas as pd\n",
    "from operator import itemgetter\n",
    "import nltk\n",
    "import os\n",
    "from collections import Counter\n",
    "from nltk.corpus import PlaintextCorpusReader\n",
    "from nltk import trigrams, ngrams\n",
    "from gensim.parsing.preprocessing import remove_stopwords\n",
    "import warnings\n",
    "from collections import Counter\n",
    "import seaborn as sns\n",
    "import numpy as np\n",
    "import matplotlib.pyplot as plt\n",
    "warnings.filterwarnings('ignore')"
   ]
  },
  {
   "cell_type": "markdown",
   "id": "6844364a",
   "metadata": {},
   "source": [
    "###### helper function for cleansing corpus"
   ]
  },
  {
   "cell_type": "code",
   "execution_count": 2,
   "id": "71bccdf5",
   "metadata": {},
   "outputs": [],
   "source": [
    "stop_words = open('stop_words_english.txt',encoding = 'utf-8')\n",
    "stop_words = stop_words.read().splitlines()\n",
    "def cleanse(string, mode):\n",
    "    punctuation= ['∼', '°', '″', '×', '…', '!', 'χ', '+', '‘','’',\n",
    "        '—', '~', '>', '|', '<', '•', '→', '$', '\\uf08e', '⋆', '´','•', '¨', 'ˆ', '′', '∑', '‚', '»',\n",
    "        '«', '²', '€', '≥', '„', '›', '‹', '−', '¼', '£', 'ð', 'Þ', '\\uf0b7', '\\uf6bc', '∗', '†',\n",
    "        '◦', '·', '±', '≤', '∏', 'º', '`', '�', '‡', '§', '̸', '⃗', '≪', 'ϕ', 'θ', '®', '≈', 'â', \n",
    "        'Ă', 'Ş', '∅', '™', '‐', '\\x00', '（', '∕', '）', '𝑚', '\\\\', '\\uffff','&', '–','?','#', '%',\n",
    "        '=', '∀', '∈', '{', '}', '“', '”', '_', '*', '©',']','``', '’' '\"', '[', ':', ';','/', '(', ')',\n",
    "        \"'\",'-','.','@',',', '\\r', '\\n']\n",
    "    for p in punctuation:\n",
    "        string = string.replace(p, '')\n",
    "    if mode ==1:\n",
    "        pass\n",
    "    ## remove stopwords\n",
    "    elif mode ==2:\n",
    "        words = word_tokenize(string)\n",
    "        remove_stopwords = list(filter(lambda token: token not in stop_words,words))\n",
    "        string = ' '.join(remove_stopwords)\n",
    "    ## perform casefolding\n",
    "    elif mode == 3: \n",
    "        string = string.casefold()\n",
    "    ## perfform stemming\n",
    "    elif mode == 4:\n",
    "        words = word_tokenize(string)\n",
    "        words = [stemmer.stem(w) for w in words]            \n",
    "        string = ' '.join(words)\n",
    "    else: \n",
    "        string = string.replace(p, \"\")\n",
    "        string = string.casefold()\n",
    "        words = word_tokenize(string)\n",
    "        words = [stemmer.stem(w) for w in words]  \n",
    "        remove_stopwords = list(filter(lambda token: token not in stop_words,words))\n",
    "        string = ' '.join(remove_stopwords)\n",
    "    return string\n"
   ]
  },
  {
   "cell_type": "markdown",
   "id": "e7211ea3",
   "metadata": {},
   "source": [
    "###### getting the documents in nltk from directory"
   ]
  },
  {
   "cell_type": "code",
   "execution_count": 3,
   "id": "3fadd712-c69f-4213-afdb-ced391216fee",
   "metadata": {
    "scrolled": true
   },
   "outputs": [],
   "source": [
    "path = 'nltk_data'\n",
    "import nltk.data\n",
    "def get_cleanse_corpus(mode):\n",
    "    path in nltk.data.path\n",
    "    corpus_root = os.path.expanduser(path)\n",
    "    corpus = PlaintextCorpusReader(corpus_root, '.*\\.txt')\n",
    "    corpus_txt = \" \".join(corpus.words())\n",
    "    corpus_txt = cleanse(corpus_txt,mode)\n",
    "    words = corpus_txt.split(' ')\n",
    "    return words,corpus"
   ]
  },
  {
   "cell_type": "markdown",
   "id": "15d919ef",
   "metadata": {},
   "source": [
    "##### For documents: calculate the each word's frequency"
   ]
  },
  {
   "cell_type": "code",
   "execution_count": 4,
   "id": "925f91f1",
   "metadata": {},
   "outputs": [],
   "source": [
    "def calc_documents_words(mode,corpus):\n",
    "    word_to_doc = []\n",
    "    documents = []\n",
    "    for fname in corpus.fileids():\n",
    "        documents.append(fname)\n",
    "        text = corpus.raw(fname)\n",
    "        if mode ==1:\n",
    "            text = cleanse(text,1)\n",
    "        elif mode == 2:\n",
    "            text = cleanse(text,2)\n",
    "        elif mode == 3: \n",
    "            text =  cleanse(text,3)\n",
    "        else: \n",
    "            text =  cleanse(text,4)\n",
    "        text = text.split(' ')\n",
    "        words_count = len(text)\n",
    "        words_occ = dict(Counter(text))\n",
    "        for key in words_occ.keys():\n",
    "            words_occ[key] = words_occ[key]/words_count\n",
    "        word_to_doc.append(words_occ)\n",
    "    return documents, word_to_doc"
   ]
  },
  {
   "cell_type": "markdown",
   "id": "e927adab",
   "metadata": {},
   "source": [
    "###### For Corpus: calculate the each word's frequency"
   ]
  },
  {
   "cell_type": "code",
   "execution_count": 5,
   "id": "aaedf8f8-d607-4c18-a970-9e64d0cf4bd3",
   "metadata": {},
   "outputs": [],
   "source": [
    "def calc_corpus_words(words):\n",
    "    corpus_count = len(words)\n",
    "    words_occ = dict(Counter(words))\n",
    "    for key in words_occ.keys():\n",
    "        words_occ[key] = words_occ[key]/corpus_count\n",
    "    word_to_corpus = words_occ\n",
    "    return word_to_corpus"
   ]
  },
  {
   "cell_type": "markdown",
   "id": "6d082e10",
   "metadata": {},
   "source": [
    "Query tokenization"
   ]
  },
  {
   "cell_type": "code",
   "execution_count": 6,
   "id": "29622940-e471-41b9-94f0-8ed49a2fb750",
   "metadata": {},
   "outputs": [],
   "source": [
    "query = 'Eye tracking museum'\n",
    "query_words = query.split(' ')"
   ]
  },
  {
   "cell_type": "markdown",
   "id": "0641f716",
   "metadata": {},
   "source": [
    "calculating weight of each word of the query in each document"
   ]
  },
  {
   "cell_type": "code",
   "execution_count": 7,
   "id": "e5ac3900",
   "metadata": {},
   "outputs": [],
   "source": [
    "def weight_word_doc_4query(query_words,word_to_doc ):\n",
    "    scores_documents = []\n",
    "    for q_w in query_words:\n",
    "        word_scores = []\n",
    "        for doc in word_to_doc:\n",
    "            score = 1\n",
    "            if q_w in doc.keys():\n",
    "                score *= doc[q_w]+1\n",
    "            else:\n",
    "                score = 1\n",
    "            word_scores.append(score)\n",
    "        scores_documents.append(word_scores)\n",
    "    return scores_documents"
   ]
  },
  {
   "cell_type": "markdown",
   "id": "93e426cb",
   "metadata": {},
   "source": [
    "calculating weight of each word of the query in whole corpus"
   ]
  },
  {
   "cell_type": "code",
   "execution_count": 8,
   "id": "89f7dc9f",
   "metadata": {},
   "outputs": [],
   "source": [
    "def weight_word_corpus_4query(query_words,word_to_corpus ):\n",
    "    scores_corpus = []\n",
    "    for q_w in query_words:\n",
    "        if q_w in word_to_corpus.keys():\n",
    "            scores_corpus.append(1+word_to_corpus[q_w])\n",
    "        else:\n",
    "            scores_corpus.append(1)\n",
    "    return scores_corpus\n"
   ]
  },
  {
   "cell_type": "markdown",
   "id": "2c12e845",
   "metadata": {},
   "source": [
    "-calculate the probability of each document for each word in the query, and then,\n",
    "given the query, the score of each document "
   ]
  },
  {
   "cell_type": "code",
   "execution_count": 9,
   "id": "0451e26d",
   "metadata": {},
   "outputs": [],
   "source": [
    "def query_words_documentscore(scores_corpus, scores_documents):\n",
    "    ranks = []\n",
    "    for i in range(len(scores_corpus)):\n",
    "        word_ranks = []\n",
    "        for j in range(len(scores_documents[i])):\n",
    "            word_ranks.append(scores_documents[i][j]*scores_corpus[i])\n",
    "        ranks.append(word_ranks)\n",
    "    query_doc_rank = []\n",
    "    for i in range(50):\n",
    "        query_doc_rank.append(ranks[0][i]*ranks[1][i]*ranks[2][i]) #given the query, the score of each document\n",
    "    return query_doc_rank"
   ]
  },
  {
   "cell_type": "markdown",
   "id": "130ccf2e",
   "metadata": {},
   "source": [
    "helper function to rank the documents and get the top N documents"
   ]
  },
  {
   "cell_type": "code",
   "execution_count": 10,
   "id": "ea526c56",
   "metadata": {},
   "outputs": [],
   "source": [
    "def get_ranked_docs(query_doc_rank, N):\n",
    "    if N>50:\n",
    "        return False\n",
    "    res = sorted(range(len(query_doc_rank)), key = lambda sub: query_doc_rank[sub])[-N:]\n",
    "    return res"
   ]
  },
  {
   "cell_type": "markdown",
   "id": "1366eb9a",
   "metadata": {},
   "source": [
    "### 1. Language Model of the collection"
   ]
  },
  {
   "cell_type": "code",
   "execution_count": 11,
   "id": "67c508ec",
   "metadata": {},
   "outputs": [],
   "source": [
    "df = pd.DataFrame(columns=['operation', 'tokens', 'unique_tokens'])"
   ]
  },
  {
   "cell_type": "code",
   "execution_count": 12,
   "id": "64c6690f",
   "metadata": {
    "scrolled": false
   },
   "outputs": [
    {
     "name": "stdout",
     "output_type": "stream",
     "text": [
      "Words in Corpus:  2901555\n"
     ]
    },
    {
     "data": {
      "text/html": [
       "<div>\n",
       "<style scoped>\n",
       "    .dataframe tbody tr th:only-of-type {\n",
       "        vertical-align: middle;\n",
       "    }\n",
       "\n",
       "    .dataframe tbody tr th {\n",
       "        vertical-align: top;\n",
       "    }\n",
       "\n",
       "    .dataframe thead th {\n",
       "        text-align: right;\n",
       "    }\n",
       "</style>\n",
       "<table border=\"1\" class=\"dataframe\">\n",
       "  <thead>\n",
       "    <tr style=\"text-align: right;\">\n",
       "      <th></th>\n",
       "      <th>operation</th>\n",
       "      <th>tokens</th>\n",
       "      <th>unique_tokens</th>\n",
       "    </tr>\n",
       "  </thead>\n",
       "  <tbody>\n",
       "    <tr>\n",
       "      <th>0</th>\n",
       "      <td>No operation</td>\n",
       "      <td>548381</td>\n",
       "      <td>27106</td>\n",
       "    </tr>\n",
       "  </tbody>\n",
       "</table>\n",
       "</div>"
      ],
      "text/plain": [
       "      operation  tokens unique_tokens\n",
       "0  No operation  548381         27106"
      ]
     },
     "execution_count": 12,
     "metadata": {},
     "output_type": "execute_result"
    }
   ],
   "source": [
    "tokens,corpus = get_cleanse_corpus(1)\n",
    "print('Words in Corpus: ' , str(len(corpus.raw())))\n",
    "df = df.append({'operation': 'No operation', 'tokens': len(tokens), 'unique_tokens': len(Counter(tokens))}, ignore_index = True)\n",
    "df"
   ]
  },
  {
   "cell_type": "markdown",
   "id": "e9ba0904",
   "metadata": {},
   "source": [
    "### 2. Linguistic operations\n",
    "- operations are done above in 'cleanse' function\n",
    "- the rest of the steps are the same\n",
    "######  2.1. Remove stop words "
   ]
  },
  {
   "cell_type": "code",
   "execution_count": 13,
   "id": "8b03d962",
   "metadata": {},
   "outputs": [
    {
     "data": {
      "text/html": [
       "<div>\n",
       "<style scoped>\n",
       "    .dataframe tbody tr th:only-of-type {\n",
       "        vertical-align: middle;\n",
       "    }\n",
       "\n",
       "    .dataframe tbody tr th {\n",
       "        vertical-align: top;\n",
       "    }\n",
       "\n",
       "    .dataframe thead th {\n",
       "        text-align: right;\n",
       "    }\n",
       "</style>\n",
       "<table border=\"1\" class=\"dataframe\">\n",
       "  <thead>\n",
       "    <tr style=\"text-align: right;\">\n",
       "      <th></th>\n",
       "      <th>operation</th>\n",
       "      <th>tokens</th>\n",
       "      <th>unique_tokens</th>\n",
       "    </tr>\n",
       "  </thead>\n",
       "  <tbody>\n",
       "    <tr>\n",
       "      <th>0</th>\n",
       "      <td>No operation</td>\n",
       "      <td>548381</td>\n",
       "      <td>27106</td>\n",
       "    </tr>\n",
       "    <tr>\n",
       "      <th>1</th>\n",
       "      <td>Stop Words</td>\n",
       "      <td>258731</td>\n",
       "      <td>26459</td>\n",
       "    </tr>\n",
       "  </tbody>\n",
       "</table>\n",
       "</div>"
      ],
      "text/plain": [
       "      operation  tokens unique_tokens\n",
       "0  No operation  548381         27106\n",
       "1    Stop Words  258731         26459"
      ]
     },
     "execution_count": 13,
     "metadata": {},
     "output_type": "execute_result"
    }
   ],
   "source": [
    "tokens,corpus = get_cleanse_corpus(2)\n",
    "df = df.append({'operation': 'Stop Words', 'tokens': len(tokens), 'unique_tokens': len(Counter(tokens))}, ignore_index = True)\n",
    "df"
   ]
  },
  {
   "cell_type": "markdown",
   "id": "91cf24dd",
   "metadata": {},
   "source": [
    "######  2.2. Perform CaseFolding"
   ]
  },
  {
   "cell_type": "code",
   "execution_count": 14,
   "id": "4cc97d84",
   "metadata": {},
   "outputs": [
    {
     "data": {
      "text/html": [
       "<div>\n",
       "<style scoped>\n",
       "    .dataframe tbody tr th:only-of-type {\n",
       "        vertical-align: middle;\n",
       "    }\n",
       "\n",
       "    .dataframe tbody tr th {\n",
       "        vertical-align: top;\n",
       "    }\n",
       "\n",
       "    .dataframe thead th {\n",
       "        text-align: right;\n",
       "    }\n",
       "</style>\n",
       "<table border=\"1\" class=\"dataframe\">\n",
       "  <thead>\n",
       "    <tr style=\"text-align: right;\">\n",
       "      <th></th>\n",
       "      <th>operation</th>\n",
       "      <th>tokens</th>\n",
       "      <th>unique_tokens</th>\n",
       "    </tr>\n",
       "  </thead>\n",
       "  <tbody>\n",
       "    <tr>\n",
       "      <th>0</th>\n",
       "      <td>No operation</td>\n",
       "      <td>548381</td>\n",
       "      <td>27106</td>\n",
       "    </tr>\n",
       "    <tr>\n",
       "      <th>1</th>\n",
       "      <td>Stop Words</td>\n",
       "      <td>258731</td>\n",
       "      <td>26459</td>\n",
       "    </tr>\n",
       "    <tr>\n",
       "      <th>2</th>\n",
       "      <td>Case Folding</td>\n",
       "      <td>548381</td>\n",
       "      <td>22841</td>\n",
       "    </tr>\n",
       "  </tbody>\n",
       "</table>\n",
       "</div>"
      ],
      "text/plain": [
       "      operation  tokens unique_tokens\n",
       "0  No operation  548381         27106\n",
       "1    Stop Words  258731         26459\n",
       "2  Case Folding  548381         22841"
      ]
     },
     "execution_count": 14,
     "metadata": {},
     "output_type": "execute_result"
    }
   ],
   "source": [
    "## get docs using nltk from directory\n",
    "tokens ,corpus = get_cleanse_corpus(3)\n",
    "df = df.append({'operation': 'Case Folding', 'tokens': len(tokens), 'unique_tokens': len(Counter(tokens))}, ignore_index = True)\n",
    "df"
   ]
  },
  {
   "cell_type": "markdown",
   "id": "746d4b43",
   "metadata": {},
   "source": [
    "######  2.3. Perform Stemming"
   ]
  },
  {
   "cell_type": "code",
   "execution_count": 15,
   "id": "258da6e0",
   "metadata": {
    "scrolled": true
   },
   "outputs": [
    {
     "data": {
      "text/html": [
       "<div>\n",
       "<style scoped>\n",
       "    .dataframe tbody tr th:only-of-type {\n",
       "        vertical-align: middle;\n",
       "    }\n",
       "\n",
       "    .dataframe tbody tr th {\n",
       "        vertical-align: top;\n",
       "    }\n",
       "\n",
       "    .dataframe thead th {\n",
       "        text-align: right;\n",
       "    }\n",
       "</style>\n",
       "<table border=\"1\" class=\"dataframe\">\n",
       "  <thead>\n",
       "    <tr style=\"text-align: right;\">\n",
       "      <th></th>\n",
       "      <th>operation</th>\n",
       "      <th>tokens</th>\n",
       "      <th>unique_tokens</th>\n",
       "    </tr>\n",
       "  </thead>\n",
       "  <tbody>\n",
       "    <tr>\n",
       "      <th>0</th>\n",
       "      <td>No operation</td>\n",
       "      <td>548381</td>\n",
       "      <td>27106</td>\n",
       "    </tr>\n",
       "    <tr>\n",
       "      <th>1</th>\n",
       "      <td>Stop Words</td>\n",
       "      <td>258731</td>\n",
       "      <td>26459</td>\n",
       "    </tr>\n",
       "    <tr>\n",
       "      <th>2</th>\n",
       "      <td>Case Folding</td>\n",
       "      <td>548381</td>\n",
       "      <td>22841</td>\n",
       "    </tr>\n",
       "    <tr>\n",
       "      <th>3</th>\n",
       "      <td>Stemming</td>\n",
       "      <td>443877</td>\n",
       "      <td>17594</td>\n",
       "    </tr>\n",
       "  </tbody>\n",
       "</table>\n",
       "</div>"
      ],
      "text/plain": [
       "      operation  tokens unique_tokens\n",
       "0  No operation  548381         27106\n",
       "1    Stop Words  258731         26459\n",
       "2  Case Folding  548381         22841\n",
       "3      Stemming  443877         17594"
      ]
     },
     "execution_count": 15,
     "metadata": {},
     "output_type": "execute_result"
    }
   ],
   "source": [
    "## get docs using nltk from directory\n",
    "tokens ,corpus = get_cleanse_corpus(4)\n",
    "df = df.append({'operation': 'Stemming', 'tokens': len(tokens), 'unique_tokens': len(Counter(tokens))}, ignore_index = True)\n",
    "df"
   ]
  },
  {
   "cell_type": "markdown",
   "id": "1270c4dd",
   "metadata": {},
   "source": [
    "#### Comparing Results"
   ]
  },
  {
   "cell_type": "code",
   "execution_count": 16,
   "id": "a236488f",
   "metadata": {},
   "outputs": [],
   "source": [
    "#   operation------tokens-----unique_tokens\n",
    "# No operation-----548381-----27106\n",
    "# Stop Words-------258731-----26459\n",
    "# Case Folding-----548381-----22841\n",
    "# Stemming---------443877-----17594"
   ]
  },
  {
   "cell_type": "markdown",
   "id": "49f01d80",
   "metadata": {},
   "source": [
    "#### Take aways: \n",
    "- The most effective linguistic operation on the language model in terms of tokens number: removing stop words\n",
    "- the least effective operation in terms of tokens number: casefolding, the number of tokens stays the same as if no operation was done.\n",
    "- The most effective linguistic operation on the language model in terms of <b>uniuqe tokens</b>: Stemming, it returns  different words which share the same stem, to the stem. and therefore resulting less unique tokens compared to other operations.\n",
    "- The least effective linguistic operation on the language model in terms of <b>uniuqe tokens</b>: removing stop words, stopwords are very frequent in documents, removing them is the most effecive operation in terms of the size of the corpus, however it doesn't have a great effect in terms of unique tokens."
   ]
  },
  {
   "cell_type": "code",
   "execution_count": 18,
   "id": "f5f851fd",
   "metadata": {},
   "outputs": [
    {
     "name": "stdout",
     "output_type": "stream",
     "text": [
      "Top 5 Ranked When Removing Stop Words\n"
     ]
    },
    {
     "ename": "NameError",
     "evalue": "name 'stopwords_top' is not defined",
     "output_type": "error",
     "traceback": [
      "\u001b[1;31m---------------------------------------------------------------------------\u001b[0m",
      "\u001b[1;31mNameError\u001b[0m                                 Traceback (most recent call last)",
      "\u001b[1;32m~\\AppData\\Local\\Temp/ipykernel_16956/591555111.py\u001b[0m in \u001b[0;36m<module>\u001b[1;34m\u001b[0m\n\u001b[0;32m      1\u001b[0m \u001b[0mprint\u001b[0m\u001b[1;33m(\u001b[0m\u001b[1;34m'Top 5 Ranked When Removing Stop Words'\u001b[0m\u001b[1;33m)\u001b[0m\u001b[1;33m\u001b[0m\u001b[1;33m\u001b[0m\u001b[0m\n\u001b[1;32m----> 2\u001b[1;33m \u001b[0mprint\u001b[0m\u001b[1;33m(\u001b[0m\u001b[0mstopwords_top\u001b[0m\u001b[1;33m)\u001b[0m\u001b[1;33m\u001b[0m\u001b[1;33m\u001b[0m\u001b[0m\n\u001b[0m\u001b[0;32m      3\u001b[0m \u001b[0mprint\u001b[0m\u001b[1;33m(\u001b[0m\u001b[1;34m'===================================='\u001b[0m\u001b[1;33m)\u001b[0m\u001b[1;33m\u001b[0m\u001b[1;33m\u001b[0m\u001b[0m\n\u001b[0;32m      4\u001b[0m \u001b[0mprint\u001b[0m\u001b[1;33m(\u001b[0m\u001b[1;34m'Top 5 Ranked When Performing Case Fodling'\u001b[0m\u001b[1;33m)\u001b[0m\u001b[1;33m\u001b[0m\u001b[1;33m\u001b[0m\u001b[0m\n\u001b[0;32m      5\u001b[0m \u001b[0mprint\u001b[0m\u001b[1;33m(\u001b[0m\u001b[0mcasefolding_top\u001b[0m\u001b[1;33m)\u001b[0m\u001b[1;33m\u001b[0m\u001b[1;33m\u001b[0m\u001b[0m\n",
      "\u001b[1;31mNameError\u001b[0m: name 'stopwords_top' is not defined"
     ]
    }
   ],
   "source": [
    "print('Top 5 Ranked When Removing Stop Words')\n",
    "print(stopwords_top)\n",
    "print('====================================')\n",
    "print('Top 5 Ranked When Performing Case Fodling')\n",
    "print(casefolding_top)\n",
    "print('====================================')\n",
    "print('Top 5 Ranked When Performing Stemming')\n",
    "print(stemming_top)"
   ]
  },
  {
   "cell_type": "markdown",
   "id": "aa68d523",
   "metadata": {},
   "source": [
    "We can see a lot of similarities between the three results in the top 5 ranked documents in when performing each operation:\n",
    "- when removing stopwords Scores in general are higher and have a relatively larger margin between documents\n",
    "- Document 44 in Top 5 in the Three operations, having a higher score when removing stopwords, while nearly similar in the other two operations, while in casefolding it has a higher rank.\n",
    "- Document 44 is in top 5 in both when removing stopwords and when performing casefolding\n",
    "- casefolding and stemming have the same top document (doc 32), the same 4th document (doc 2), and the same documents in rank 2 and 3 with different order.\n",
    "- We Can Infer from the results that the most effictive operation is Removing Stop words due to the fact that it generated higher scores for documents than the other operations a higher margin between different document's scores which gives more Sure answer, and that it returned different documents than the other two, that means that the other two operations' effect is more similar than removing stopwords \n"
   ]
  },
  {
   "cell_type": "markdown",
   "id": "86e8db91",
   "metadata": {},
   "source": [
    "# Text Classification"
   ]
  },
  {
   "cell_type": "markdown",
   "id": "682cd356",
   "metadata": {},
   "source": [
    "###### Read Files Relevant Documents' class: 1, Non-Relevant: 0\n",
    "- Reading Relevant documents"
   ]
  },
  {
   "cell_type": "code",
   "execution_count": 19,
   "id": "dd0cafd6",
   "metadata": {},
   "outputs": [],
   "source": [
    "from sklearn.feature_extraction.text import TfidfVectorizer, CountVectorizer, TfidfTransformer\n",
    "from sklearn.model_selection import train_test_split\n",
    "from sklearn.naive_bayes import MultinomialNB\n",
    "from sklearn.metrics import confusion_matrix,accuracy_score,plot_confusion_matrix,precision_score,recall_score\n",
    "from sklearn.model_selection import KFold\n",
    "from sklearn.model_selection import cross_val_score\n",
    "from sklearn.model_selection import cross_val_predict\n",
    "from sklearn.linear_model import LogisticRegression\n",
    "from sklearn.metrics import classification_report\n",
    "from sklearn.neighbors import KNeighborsClassifier\n",
    "from sklearn import svm\n",
    "import sklearn.model_selection as model_selection\n",
    "from sklearn.decomposition import TruncatedSVD\n",
    "from sklearn.decomposition import PCA\n",
    "from sklearn.pipeline import Pipeline\n",
    "import matplotlib.pyplot as plt\n",
    "from scipy.spatial import distance_matrix\n",
    "from sklearn.metrics.pairwise import cosine_similarity\n",
    "import collections"
   ]
  },
  {
   "cell_type": "code",
   "execution_count": 20,
   "id": "20fc589c",
   "metadata": {},
   "outputs": [],
   "source": [
    "titles = []\n",
    "corpus = []\n",
    "targets = []\n",
    "target_names = ['Non-Relevant', 'Relevant']\n",
    "for doc in os.listdir('nltk_data'):\n",
    "    file = open('nltk_data/' + doc,encoding ='utf-8')\n",
    "    corpus.append(file.read())\n",
    "    targets.append(1)\n",
    "    titles.append(doc)"
   ]
  },
  {
   "cell_type": "markdown",
   "id": "21378433",
   "metadata": {},
   "source": [
    "- Reading non-relevant Documents"
   ]
  },
  {
   "cell_type": "code",
   "execution_count": 21,
   "id": "071c70b9",
   "metadata": {},
   "outputs": [],
   "source": [
    "for doc in os.listdir('text classification'):\n",
    "    file = open('text classification/' + doc,encoding ='utf-8')\n",
    "    corpus.append(file.read())\n",
    "    targets.append(0)\n",
    "    titles.append(doc)"
   ]
  },
  {
   "cell_type": "markdown",
   "id": "5417a2ea",
   "metadata": {},
   "source": [
    "cleansing and tokenizing corpus documents"
   ]
  },
  {
   "cell_type": "code",
   "execution_count": 22,
   "id": "c2b0423d",
   "metadata": {},
   "outputs": [],
   "source": [
    "def tokenize(document):\n",
    "    document = cleanse(document,5)\n",
    "    document = word_tokenize(document)\n",
    "    return document"
   ]
  },
  {
   "cell_type": "markdown",
   "id": "3edd10bc",
   "metadata": {},
   "source": [
    "TFIDF matrix for the Input text"
   ]
  },
  {
   "cell_type": "code",
   "execution_count": 23,
   "id": "b7ad01b1",
   "metadata": {},
   "outputs": [],
   "source": [
    "vectorizer = TfidfVectorizer(tokenizer=tokenize)\n",
    "tfidf = vectorizer.fit_transform(corpus)"
   ]
  },
  {
   "cell_type": "markdown",
   "id": "1e548657",
   "metadata": {},
   "source": [
    "#### Naive Bayes Classifier"
   ]
  },
  {
   "cell_type": "markdown",
   "id": "9258a312",
   "metadata": {},
   "source": [
    "- splitting data to train and test: 90% Train 10% test\n",
    "- fitting the model"
   ]
  },
  {
   "cell_type": "code",
   "execution_count": 24,
   "id": "b6f9f965",
   "metadata": {},
   "outputs": [
    {
     "data": {
      "text/plain": [
       "MultinomialNB()"
      ]
     },
     "execution_count": 24,
     "metadata": {},
     "output_type": "execute_result"
    }
   ],
   "source": [
    "#split into training and test dataset\n",
    "x_train,x_test,y_train,y_test = train_test_split(tfidf,targets,test_size = 0.1,random_state=0)\n",
    "#Model Building\n",
    "naivebayes = MultinomialNB()\n",
    "#classifier.fit(x_train,y_train)\n",
    "naivebayes.fit(x_train,y_train)"
   ]
  },
  {
   "cell_type": "code",
   "execution_count": 25,
   "id": "c80964d2",
   "metadata": {},
   "outputs": [
    {
     "name": "stdout",
     "output_type": "stream",
     "text": [
      "Accuracy Score: 0.8\n"
     ]
    },
    {
     "data": {
      "image/png": "[encoded data removed]",
      "text/plain": [
       "<Figure size 432x288 with 2 Axes>"
      ]
     },
     "metadata": {
      "needs_background": "light"
     },
     "output_type": "display_data"
    }
   ],
   "source": [
    "pred = naivebayes.predict(x_test)\n",
    "plot_confusion_matrix(naivebayes,x_test,y_test)\n",
    "print('Accuracy Score: '  + str(accuracy_score(y_test,pred)))"
   ]
  },
  {
   "cell_type": "markdown",
   "id": "ca8cba4d",
   "metadata": {},
   "source": [
    "###### 10 Fold Cross Validation"
   ]
  },
  {
   "cell_type": "code",
   "execution_count": 26,
   "id": "64d9e4b5",
   "metadata": {
    "scrolled": true
   },
   "outputs": [
    {
     "name": "stdout",
     "output_type": "stream",
     "text": [
      "Avg accuracy: 0.9199999999999999\n"
     ]
    }
   ],
   "source": [
    "k = 10\n",
    "kf = model_selection.KFold(n_splits=k, shuffle = True,random_state=18)\n",
    "result = cross_val_score(naivebayes , tfidf, targets, cv = kf)\n",
    "y_pred = cross_val_predict(naivebayes , tfidf, targets, cv=kf)\n",
    "print(\"Avg accuracy: {}\".format(result.mean()))\n"
   ]
  },
  {
   "cell_type": "code",
   "execution_count": 27,
   "id": "71643497",
   "metadata": {},
   "outputs": [
    {
     "data": {
      "text/html": [
       "<div>\n",
       "<style scoped>\n",
       "    .dataframe tbody tr th:only-of-type {\n",
       "        vertical-align: middle;\n",
       "    }\n",
       "\n",
       "    .dataframe tbody tr th {\n",
       "        vertical-align: top;\n",
       "    }\n",
       "\n",
       "    .dataframe thead th {\n",
       "        text-align: right;\n",
       "    }\n",
       "</style>\n",
       "<table border=\"1\" class=\"dataframe\">\n",
       "  <thead>\n",
       "    <tr style=\"text-align: right;\">\n",
       "      <th></th>\n",
       "      <th>title</th>\n",
       "      <th>label</th>\n",
       "      <th>pred</th>\n",
       "      <th>index</th>\n",
       "    </tr>\n",
       "  </thead>\n",
       "  <tbody>\n",
       "    <tr>\n",
       "      <th>0</th>\n",
       "      <td>A Novel Image Based Positioning Technique Usin...</td>\n",
       "      <td>1</td>\n",
       "      <td>1</td>\n",
       "      <td>0</td>\n",
       "    </tr>\n",
       "    <tr>\n",
       "      <th>1</th>\n",
       "      <td>A review of eye-tracking research in tourism.txt</td>\n",
       "      <td>1</td>\n",
       "      <td>1</td>\n",
       "      <td>1</td>\n",
       "    </tr>\n",
       "    <tr>\n",
       "      <th>2</th>\n",
       "      <td>Aesthetic Dissonance The Impact of Viewing Fin...</td>\n",
       "      <td>1</td>\n",
       "      <td>1</td>\n",
       "      <td>2</td>\n",
       "    </tr>\n",
       "    <tr>\n",
       "      <th>3</th>\n",
       "      <td>Allophonic tunes of contrast_ Lab and spontane...</td>\n",
       "      <td>1</td>\n",
       "      <td>1</td>\n",
       "      <td>3</td>\n",
       "    </tr>\n",
       "    <tr>\n",
       "      <th>4</th>\n",
       "      <td>An Eye-Tracking Dataset for Visual Attention M...</td>\n",
       "      <td>1</td>\n",
       "      <td>1</td>\n",
       "      <td>4</td>\n",
       "    </tr>\n",
       "    <tr>\n",
       "      <th>...</th>\n",
       "      <td>...</td>\n",
       "      <td>...</td>\n",
       "      <td>...</td>\n",
       "      <td>...</td>\n",
       "    </tr>\n",
       "    <tr>\n",
       "      <th>95</th>\n",
       "      <td>PERSONALIZATION ENVISAGED IN MUSEUM APPLICATIO...</td>\n",
       "      <td>0</td>\n",
       "      <td>0</td>\n",
       "      <td>95</td>\n",
       "    </tr>\n",
       "    <tr>\n",
       "      <th>96</th>\n",
       "      <td>RSSI-Based_WLAN_Indoor_Positioning_Used_Within...</td>\n",
       "      <td>0</td>\n",
       "      <td>0</td>\n",
       "      <td>96</td>\n",
       "    </tr>\n",
       "    <tr>\n",
       "      <th>97</th>\n",
       "      <td>Suitability of Eye Tracking in Assessing the V...</td>\n",
       "      <td>0</td>\n",
       "      <td>1</td>\n",
       "      <td>97</td>\n",
       "    </tr>\n",
       "    <tr>\n",
       "      <th>98</th>\n",
       "      <td>Teaching cultural heritage using mobile augmen...</td>\n",
       "      <td>0</td>\n",
       "      <td>0</td>\n",
       "      <td>98</td>\n",
       "    </tr>\n",
       "    <tr>\n",
       "      <th>99</th>\n",
       "      <td>Technological approach for cultural heritage a...</td>\n",
       "      <td>0</td>\n",
       "      <td>0</td>\n",
       "      <td>99</td>\n",
       "    </tr>\n",
       "  </tbody>\n",
       "</table>\n",
       "<p>100 rows × 4 columns</p>\n",
       "</div>"
      ],
      "text/plain": [
       "                                                title  label  pred  index\n",
       "0   A Novel Image Based Positioning Technique Usin...      1     1      0\n",
       "1    A review of eye-tracking research in tourism.txt      1     1      1\n",
       "2   Aesthetic Dissonance The Impact of Viewing Fin...      1     1      2\n",
       "3   Allophonic tunes of contrast_ Lab and spontane...      1     1      3\n",
       "4   An Eye-Tracking Dataset for Visual Attention M...      1     1      4\n",
       "..                                                ...    ...   ...    ...\n",
       "95  PERSONALIZATION ENVISAGED IN MUSEUM APPLICATIO...      0     0     95\n",
       "96  RSSI-Based_WLAN_Indoor_Positioning_Used_Within...      0     0     96\n",
       "97  Suitability of Eye Tracking in Assessing the V...      0     1     97\n",
       "98  Teaching cultural heritage using mobile augmen...      0     0     98\n",
       "99  Technological approach for cultural heritage a...      0     0     99\n",
       "\n",
       "[100 rows x 4 columns]"
      ]
     },
     "execution_count": 27,
     "metadata": {},
     "output_type": "execute_result"
    }
   ],
   "source": [
    "pred_df = pd.DataFrame({'title': titles, 'label': targets, 'pred': y_pred})\n",
    "pred_df['index'] = pred_df.index\n",
    "pred_df"
   ]
  },
  {
   "cell_type": "code",
   "execution_count": 28,
   "id": "108ba8df",
   "metadata": {
    "scrolled": true
   },
   "outputs": [
    {
     "data": {
      "text/html": [
       "<div>\n",
       "<style scoped>\n",
       "    .dataframe tbody tr th:only-of-type {\n",
       "        vertical-align: middle;\n",
       "    }\n",
       "\n",
       "    .dataframe tbody tr th {\n",
       "        vertical-align: top;\n",
       "    }\n",
       "\n",
       "    .dataframe thead th {\n",
       "        text-align: right;\n",
       "    }\n",
       "</style>\n",
       "<table border=\"1\" class=\"dataframe\">\n",
       "  <thead>\n",
       "    <tr style=\"text-align: right;\">\n",
       "      <th></th>\n",
       "      <th>title</th>\n",
       "      <th>label</th>\n",
       "      <th>pred</th>\n",
       "      <th>index</th>\n",
       "    </tr>\n",
       "  </thead>\n",
       "  <tbody>\n",
       "    <tr>\n",
       "      <th>8</th>\n",
       "      <td>CURATING DIGITAL IMAGES_ ETHNOGRAPHIC PERSPECT...</td>\n",
       "      <td>1</td>\n",
       "      <td>0</td>\n",
       "      <td>8</td>\n",
       "    </tr>\n",
       "    <tr>\n",
       "      <th>13</th>\n",
       "      <td>Exploring the Affective Museum Visiting Experi...</td>\n",
       "      <td>1</td>\n",
       "      <td>0</td>\n",
       "      <td>13</td>\n",
       "    </tr>\n",
       "    <tr>\n",
       "      <th>64</th>\n",
       "      <td>A Museum Visitors Classification Based On Beha...</td>\n",
       "      <td>0</td>\n",
       "      <td>1</td>\n",
       "      <td>64</td>\n",
       "    </tr>\n",
       "    <tr>\n",
       "      <th>67</th>\n",
       "      <td>A TECHNIQUE FOR STUDYING THE BEHAVIOROF MUSEUM...</td>\n",
       "      <td>0</td>\n",
       "      <td>1</td>\n",
       "      <td>67</td>\n",
       "    </tr>\n",
       "    <tr>\n",
       "      <th>75</th>\n",
       "      <td>Augmented Reality for Art, Design and Cultural...</td>\n",
       "      <td>0</td>\n",
       "      <td>1</td>\n",
       "      <td>75</td>\n",
       "    </tr>\n",
       "    <tr>\n",
       "      <th>85</th>\n",
       "      <td>Development of a Mobile Museum Guide Robot Tha...</td>\n",
       "      <td>0</td>\n",
       "      <td>1</td>\n",
       "      <td>85</td>\n",
       "    </tr>\n",
       "    <tr>\n",
       "      <th>86</th>\n",
       "      <td>Exploring the potential of a mobile eye tracke...</td>\n",
       "      <td>0</td>\n",
       "      <td>1</td>\n",
       "      <td>86</td>\n",
       "    </tr>\n",
       "    <tr>\n",
       "      <th>97</th>\n",
       "      <td>Suitability of Eye Tracking in Assessing the V...</td>\n",
       "      <td>0</td>\n",
       "      <td>1</td>\n",
       "      <td>97</td>\n",
       "    </tr>\n",
       "  </tbody>\n",
       "</table>\n",
       "</div>"
      ],
      "text/plain": [
       "                                                title  label  pred  index\n",
       "8   CURATING DIGITAL IMAGES_ ETHNOGRAPHIC PERSPECT...      1     0      8\n",
       "13  Exploring the Affective Museum Visiting Experi...      1     0     13\n",
       "64  A Museum Visitors Classification Based On Beha...      0     1     64\n",
       "67  A TECHNIQUE FOR STUDYING THE BEHAVIOROF MUSEUM...      0     1     67\n",
       "75  Augmented Reality for Art, Design and Cultural...      0     1     75\n",
       "85  Development of a Mobile Museum Guide Robot Tha...      0     1     85\n",
       "86  Exploring the potential of a mobile eye tracke...      0     1     86\n",
       "97  Suitability of Eye Tracking in Assessing the V...      0     1     97"
      ]
     },
     "execution_count": 28,
     "metadata": {},
     "output_type": "execute_result"
    }
   ],
   "source": [
    "pred_df[pred_df['label'] != pred_df['pred']]"
   ]
  },
  {
   "cell_type": "markdown",
   "id": "4a45f25d",
   "metadata": {},
   "source": [
    "finding most occorent words in relevant docs"
   ]
  },
  {
   "cell_type": "code",
   "execution_count": 29,
   "id": "2a6c0d60",
   "metadata": {},
   "outputs": [],
   "source": [
    "tokenized = [tokenize(doc) for doc in corpus[:50]]\n",
    "words = []\n",
    "for i in tokenized:\n",
    "    words.extend(i)"
   ]
  },
  {
   "cell_type": "code",
   "execution_count": 30,
   "id": "a9bc5c8e",
   "metadata": {},
   "outputs": [],
   "source": [
    "counter  = dict(Counter(words))\n",
    "ws = []\n",
    "most_rel = dict(sorted(counter.items(), key = itemgetter(1), reverse = True)[:10])\n",
    "\n",
    "for i in most_rel.keys():\n",
    "    most_rel[i] = most_rel[i]/sum(list(counter.values()))+1\n"
   ]
  },
  {
   "cell_type": "code",
   "execution_count": 31,
   "id": "6c9d218b",
   "metadata": {},
   "outputs": [
    {
     "data": {
      "text/plain": [
       "{'exhibit': 1.0102031659427833,\n",
       " 'eye': 1.0098980580781793,\n",
       " 'museum': 1.0091801572202879,\n",
       " 'thi': 1.0091622096988406,\n",
       " 'visitor': 1.008394953156969,\n",
       " 'wa': 1.0065912272515165,\n",
       " 'studi': 1.0061874080189526,\n",
       " 'movement': 1.0056893642987903,\n",
       " 'gaze': 1.0051733730571808,\n",
       " 'experi': 1.0050612010481352}"
      ]
     },
     "execution_count": 31,
     "metadata": {},
     "output_type": "execute_result"
    }
   ],
   "source": [
    "most_rel"
   ]
  },
  {
   "cell_type": "markdown",
   "id": "9ede3e35",
   "metadata": {},
   "source": [
    "finding most occorent words in non - relevant docs"
   ]
  },
  {
   "cell_type": "code",
   "execution_count": 32,
   "id": "b3affdfc",
   "metadata": {},
   "outputs": [
    {
     "data": {
      "text/plain": [
       "{'museum': 1.0125864059034848,\n",
       " 'visitor': 1.008974541870388,\n",
       " 'thi': 1.008475235711414,\n",
       " 'user': 1.0079888985435823,\n",
       " 'mobil': 1.005518305730997,\n",
       " 'inform': 1.0053691623328622,\n",
       " 'wa': 1.0050189995720233,\n",
       " 'experi': 1.0048698561738882,\n",
       " 'visit': 1.0047336817668953,\n",
       " 'interact': 1.0043575810237722}"
      ]
     },
     "execution_count": 32,
     "metadata": {},
     "output_type": "execute_result"
    }
   ],
   "source": [
    "tokenized = [tokenize(doc) for doc in corpus[50:]]\n",
    "words = []\n",
    "for i in tokenized:\n",
    "    words.extend(i)\n",
    "counter  = dict(Counter(words))\n",
    "ws = []\n",
    "most_nonrel = dict(sorted(counter.items(), key = itemgetter(1), reverse = True)[:10])\n",
    "\n",
    "for i in most_nonrel.keys():\n",
    "    most_nonrel[i] = most_nonrel[i]/sum(list(counter.values()))+1\n",
    "most_nonrel"
   ]
  },
  {
   "cell_type": "markdown",
   "id": "fbfdba2e",
   "metadata": {},
   "source": [
    "#### Take aways:\n",
    "- We can see already that in the most effective words in relevant documents, can be also the one of the most effective words in the non-relevant documents.\n",
    "- museum, visitor,thi,wa all are in the top 10 most occuring words of both relevant and non-relevant documents <b> Which might be the reason for the False results. </b>"
   ]
  },
  {
   "cell_type": "code",
   "execution_count": 33,
   "id": "edb1cbc7",
   "metadata": {
    "scrolled": true
   },
   "outputs": [],
   "source": [
    "false_pred = pred_df[pred_df['label'] != pred_df['pred']]['index'].tolist()[:5]"
   ]
  },
  {
   "cell_type": "code",
   "execution_count": 34,
   "id": "047ead30",
   "metadata": {},
   "outputs": [
    {
     "name": "stdout",
     "output_type": "stream",
     "text": [
      "8: CURATING DIGITAL IMAGES_ ETHNOGRAPHIC PERSPECTIVES ON THE AFFORDANCES OF DIGITAL IMAGES IN MUSEUM AND HERITAGE CONTEXTS.txt\n",
      "True Category: 1\n",
      "Relevant Probability: 8.2792649480964\n",
      "Non-Relevant Probability: 9.238112207594506\n",
      "===========================\n",
      "13: Exploring the Affective Museum Visiting Experience_ Adaptive Augmented Reality (A2R) and Cultural Heritage.txt\n",
      "True Category: 1\n",
      "Relevant Probability: 17.874566321134157\n",
      "Non-Relevant Probability: 40.710632854076145\n",
      "===========================\n",
      "64: A Museum Visitors Classification Based On Behavioral and Demographic Features.txt\n",
      "True Category: 0\n",
      "Relevant Probability: 3.8704279229470235\n",
      "Non-Relevant Probability: 5.6837903325394965\n",
      "===========================\n",
      "67: A TECHNIQUE FOR STUDYING THE BEHAVIOROF MUSEUM VISITORS.txt\n",
      "True Category: 0\n",
      "Relevant Probability: 2.2760739332829063\n",
      "Non-Relevant Probability: 1.9259951644277171\n",
      "===========================\n",
      "75: Augmented Reality for Art, Design and Cultural Heritage - System Design and Evaluation.txt\n",
      "True Category: 0\n",
      "Relevant Probability: 2.51141861165159\n",
      "Non-Relevant Probability: 2.844876569848517\n",
      "===========================\n"
     ]
    }
   ],
   "source": [
    "for i in false_pred:\n",
    "    sum_rel = 1\n",
    "    sum_nonrel = 1\n",
    "    tok = tokenize(corpus[i])\n",
    "    for word in tok:\n",
    "        if word in most_rel.keys():\n",
    "            sum_rel *= most_rel[word]\n",
    "        if word in most_nonrel.keys():\n",
    "            sum_nonrel *= most_nonrel[word]\n",
    "    print(str(i) + ': '+ titles[i])\n",
    "    print('True Category: ' + str(targets[i]))\n",
    "    print('Relevant Probability: ' +str(sum_rel))\n",
    "    print('Non-Relevant Probability: ' +str(sum_nonrel))\n",
    "    print('===========================')\n"
   ]
  },
  {
   "cell_type": "markdown",
   "id": "9b5d14b7",
   "metadata": {},
   "source": [
    "##### Conclusions\n"
   ]
  },
  {
   "cell_type": "markdown",
   "id": "ebc338e9",
   "metadata": {},
   "source": [
    "##  Logistic Regression Classifier"
   ]
  },
  {
   "cell_type": "code",
   "execution_count": 35,
   "id": "607bd512",
   "metadata": {},
   "outputs": [
    {
     "name": "stdout",
     "output_type": "stream",
     "text": [
      "Accuracy Score: 0.9\n"
     ]
    },
    {
     "data": {
      "text/plain": [
       "<sklearn.metrics._plot.confusion_matrix.ConfusionMatrixDisplay at 0x1ede51837c0>"
      ]
     },
     "execution_count": 35,
     "metadata": {},
     "output_type": "execute_result"
    },
    {
     "data": {
      "image/png": "[encoded data removed]",
      "text/plain": [
       "<Figure size 432x288 with 2 Axes>"
      ]
     },
     "metadata": {
      "needs_background": "light"
     },
     "output_type": "display_data"
    }
   ],
   "source": [
    "# Construct a confusion matrix\n",
    "test_size = 0.1\n",
    "seed = 0\n",
    "X_train, X_test, Y_train, Y_test = train_test_split(tfidf, targets, test_size=test_size,\n",
    "random_state=seed)\n",
    "logReg = LogisticRegression(solver='liblinear')\n",
    "logReg.fit(X_train, Y_train)\n",
    "predicted = logReg.predict(X_test)\n",
    "print('Accuracy Score: '  + str(accuracy_score(Y_test,predicted)))\n",
    "plot_confusion_matrix(logReg,X_test, Y_test)"
   ]
  },
  {
   "cell_type": "markdown",
   "id": "470ac9ea",
   "metadata": {},
   "source": [
    "###### 10 Fold Cross Validation"
   ]
  },
  {
   "cell_type": "code",
   "execution_count": 36,
   "id": "2acb8f27",
   "metadata": {},
   "outputs": [
    {
     "name": "stdout",
     "output_type": "stream",
     "text": [
      "Average 10 Folds CV Accuracy: 94.000% \n"
     ]
    }
   ],
   "source": [
    "# 10 folds selected\n",
    "kfold = KFold(n_splits=10, random_state=0, shuffle=True)\n",
    "logReg = LogisticRegression(solver='liblinear')\n",
    "pred = cross_val_score(logReg, tfidf, targets, cv=kfold)\n",
    "# Output the accuracy. Calculate the mean and std across all folds. \n",
    "print(\"Average 10 Folds CV Accuracy: %.3f%% \" % (pred.mean()*100.0))"
   ]
  },
  {
   "cell_type": "code",
   "execution_count": 37,
   "id": "47318c97",
   "metadata": {},
   "outputs": [
    {
     "name": "stdout",
     "output_type": "stream",
     "text": [
      "8: CURATING DIGITAL IMAGES_ ETHNOGRAPHIC PERSPECTIVES ON THE AFFORDANCES OF DIGITAL IMAGES IN MUSEUM AND HERITAGE CONTEXTS.txt\n",
      "True Category: 1\n",
      "Relevant Probability: 8.2792649480964\n",
      "Non-Relevant Probability: 9.238112207594506\n",
      "===========================\n",
      "13: Exploring the Affective Museum Visiting Experience_ Adaptive Augmented Reality (A2R) and Cultural Heritage.txt\n",
      "True Category: 1\n",
      "Relevant Probability: 17.874566321134157\n",
      "Non-Relevant Probability: 40.710632854076145\n",
      "===========================\n",
      "22: Full Access to Cultural Spaces (FACS)_ Mapping and evaluating museum access services using mobile eye-tracking technology.txt\n",
      "True Category: 1\n",
      "Relevant Probability: 8.800648841575178\n",
      "Non-Relevant Probability: 12.786846486301355\n",
      "===========================\n",
      "47: using eye-tracking to unveil differences between kids and teens in coding activities.txt\n",
      "True Category: 1\n",
      "Relevant Probability: 3.533311194648189\n",
      "Non-Relevant Probability: 2.0652459354786665\n",
      "===========================\n",
      "85: Development of a Mobile Museum Guide Robot That Can Configure Spatial Formation with Visitors.txt\n",
      "True Category: 0\n",
      "Relevant Probability: 3.5228297246041627\n",
      "Non-Relevant Probability: 2.9230084417594786\n",
      "===========================\n"
     ]
    }
   ],
   "source": [
    "y_pred = cross_val_predict(logReg , tfidf, targets, cv=kf)\n",
    "pred_df = pd.DataFrame({'title': titles, 'label': targets, 'pred': y_pred})\n",
    "pred_df['index'] = pred_df.index\n",
    "pred_df[pred_df['label'] != pred_df['pred']]\n",
    "false_pred = pred_df[pred_df['label'] != pred_df['pred']]['index'].tolist()[:5]\n",
    "for i in false_pred:\n",
    "    sum_rel = 1\n",
    "    sum_nonrel = 1\n",
    "    tok = tokenize(corpus[i])\n",
    "    for word in tok:\n",
    "        if word in most_rel.keys():\n",
    "            sum_rel *= most_rel[word]\n",
    "        if word in most_nonrel.keys():\n",
    "            sum_nonrel *= most_nonrel[word]\n",
    "    print(str(i) + ': '+ titles[i])\n",
    "    print('True Category: ' + str(targets[i]))\n",
    "    print('Relevant Probability: ' +str(sum_rel))\n",
    "    print('Non-Relevant Probability: ' +str(sum_nonrel))\n",
    "    print('===========================')\n"
   ]
  },
  {
   "cell_type": "code",
   "execution_count": 38,
   "id": "c7b209c5",
   "metadata": {},
   "outputs": [
    {
     "data": {
      "text/html": [
       "<div>\n",
       "<style scoped>\n",
       "    .dataframe tbody tr th:only-of-type {\n",
       "        vertical-align: middle;\n",
       "    }\n",
       "\n",
       "    .dataframe tbody tr th {\n",
       "        vertical-align: top;\n",
       "    }\n",
       "\n",
       "    .dataframe thead th {\n",
       "        text-align: right;\n",
       "    }\n",
       "</style>\n",
       "<table border=\"1\" class=\"dataframe\">\n",
       "  <thead>\n",
       "    <tr style=\"text-align: right;\">\n",
       "      <th></th>\n",
       "      <th>x</th>\n",
       "      <th>y</th>\n",
       "      <th>label</th>\n",
       "    </tr>\n",
       "  </thead>\n",
       "  <tbody>\n",
       "    <tr>\n",
       "      <th>0</th>\n",
       "      <td>0.650239</td>\n",
       "      <td>0.072338</td>\n",
       "      <td>1</td>\n",
       "    </tr>\n",
       "    <tr>\n",
       "      <th>1</th>\n",
       "      <td>0.432297</td>\n",
       "      <td>0.275539</td>\n",
       "      <td>1</td>\n",
       "    </tr>\n",
       "    <tr>\n",
       "      <th>2</th>\n",
       "      <td>0.359605</td>\n",
       "      <td>-0.028141</td>\n",
       "      <td>1</td>\n",
       "    </tr>\n",
       "    <tr>\n",
       "      <th>3</th>\n",
       "      <td>0.169050</td>\n",
       "      <td>0.052026</td>\n",
       "      <td>1</td>\n",
       "    </tr>\n",
       "    <tr>\n",
       "      <th>4</th>\n",
       "      <td>0.322916</td>\n",
       "      <td>0.083685</td>\n",
       "      <td>1</td>\n",
       "    </tr>\n",
       "    <tr>\n",
       "      <th>...</th>\n",
       "      <td>...</td>\n",
       "      <td>...</td>\n",
       "      <td>...</td>\n",
       "    </tr>\n",
       "    <tr>\n",
       "      <th>95</th>\n",
       "      <td>0.408868</td>\n",
       "      <td>-0.297233</td>\n",
       "      <td>0</td>\n",
       "    </tr>\n",
       "    <tr>\n",
       "      <th>96</th>\n",
       "      <td>0.325514</td>\n",
       "      <td>-0.078180</td>\n",
       "      <td>0</td>\n",
       "    </tr>\n",
       "    <tr>\n",
       "      <th>97</th>\n",
       "      <td>0.441388</td>\n",
       "      <td>0.202444</td>\n",
       "      <td>0</td>\n",
       "    </tr>\n",
       "    <tr>\n",
       "      <th>98</th>\n",
       "      <td>0.356223</td>\n",
       "      <td>-0.126536</td>\n",
       "      <td>0</td>\n",
       "    </tr>\n",
       "    <tr>\n",
       "      <th>99</th>\n",
       "      <td>0.335410</td>\n",
       "      <td>-0.079316</td>\n",
       "      <td>0</td>\n",
       "    </tr>\n",
       "  </tbody>\n",
       "</table>\n",
       "<p>100 rows × 3 columns</p>\n",
       "</div>"
      ],
      "text/plain": [
       "           x         y  label\n",
       "0   0.650239  0.072338      1\n",
       "1   0.432297  0.275539      1\n",
       "2   0.359605 -0.028141      1\n",
       "3   0.169050  0.052026      1\n",
       "4   0.322916  0.083685      1\n",
       "..       ...       ...    ...\n",
       "95  0.408868 -0.297233      0\n",
       "96  0.325514 -0.078180      0\n",
       "97  0.441388  0.202444      0\n",
       "98  0.356223 -0.126536      0\n",
       "99  0.335410 -0.079316      0\n",
       "\n",
       "[100 rows x 3 columns]"
      ]
     },
     "execution_count": 38,
     "metadata": {},
     "output_type": "execute_result"
    }
   ],
   "source": [
    "svd = TruncatedSVD()\n",
    "x_svd = svd.fit_transform(tfidf)\n",
    "x_svd = pd.DataFrame(x_svd)\n",
    "x_svd.rename(columns = {0:'x', 1:'y'}, inplace = True)\n",
    "x_svd['label'] = targets\n",
    "x_svd"
   ]
  },
  {
   "cell_type": "code",
   "execution_count": 202,
   "id": "de00af5d",
   "metadata": {},
   "outputs": [
    {
     "data": {
      "text/plain": [
       "<seaborn.axisgrid.FacetGrid at 0x1ff1b1f4490>"
      ]
     },
     "execution_count": 202,
     "metadata": {},
     "output_type": "execute_result"
    },
    {
     "data": {
      "image/png": "[encoded data removed]",
      "text/plain": [
       "<Figure size 405.725x360 with 1 Axes>"
      ]
     },
     "metadata": {},
     "output_type": "display_data"
    }
   ],
   "source": [
    "sns.lmplot(x='x', y='y', data=x_svd,hue = 'label', logistic=True,fit_reg= True)"
   ]
  },
  {
   "cell_type": "markdown",
   "id": "91ef8971",
   "metadata": {},
   "source": [
    "####  K Nearest Neighbor Classifier"
   ]
  },
  {
   "cell_type": "markdown",
   "id": "a0b11adf",
   "metadata": {},
   "source": [
    "### Conclusions\n"
   ]
  },
  {
   "cell_type": "code",
   "execution_count": 206,
   "id": "b351ce46",
   "metadata": {},
   "outputs": [
    {
     "name": "stdout",
     "output_type": "stream",
     "text": [
      "Accuracy Score: 0.9\n"
     ]
    },
    {
     "data": {
      "image/png": "[encoded data removed]",
      "text/plain": [
       "<Figure size 432x288 with 2 Axes>"
      ]
     },
     "metadata": {},
     "output_type": "display_data"
    }
   ],
   "source": [
    "#split dataset into train and test data\n",
    "X_train, X_test, y_train, y_test = train_test_split(tfidf,targets, test_size=0.1, random_state=1, stratify=targets)\n",
    "\n",
    "# Create KNN classifier\n",
    "knn = KNeighborsClassifier(n_neighbors = 3)\n",
    "# Fit the classifier to the data\n",
    "knn.fit(X_train,y_train)\n",
    "predictions = knn.predict(X_test)\n",
    "print('Accuracy Score: '  + str(accuracy_score(Y_test,predicted)))\n",
    "plot_confusion_matrix(knn,X_test,predictions)"
   ]
  },
  {
   "cell_type": "markdown",
   "id": "a17749ee",
   "metadata": {},
   "source": [
    "###### 10 Fold Cross Validation"
   ]
  },
  {
   "cell_type": "code",
   "execution_count": 207,
   "id": "806cd54d",
   "metadata": {
    "scrolled": true
   },
   "outputs": [
    {
     "name": "stdout",
     "output_type": "stream",
     "text": [
      "cv Accuracy mean:0.89\n"
     ]
    }
   ],
   "source": [
    "#create a new KNN model\n",
    "knn_cv = KNeighborsClassifier(n_neighbors=3)\n",
    "#train model with cv of 10\n",
    "k = 10\n",
    "kf = model_selection.KFold(n_splits=k, shuffle = True,random_state=0)\n",
    "y_pred = cross_val_predict(knn_cv , tfidf, targets, cv=kf)\n",
    "cv_scores = cross_val_score(knn_cv, tfidf, targets, cv=10)\n",
    "#print each cv score (accuracy) and average them\n",
    "\n",
    "print('cv Accuracy mean:{}'.format(np.sum(cv_scores)/10))"
   ]
  },
  {
   "cell_type": "code",
   "execution_count": 217,
   "id": "2251beb5",
   "metadata": {},
   "outputs": [
    {
     "data": {
      "text/plain": [
       "[8, 13, 30, 53, 61, 62, 64, 67, 68, 86, 97]"
      ]
     },
     "execution_count": 217,
     "metadata": {},
     "output_type": "execute_result"
    }
   ],
   "source": [
    "pred_df = pd.DataFrame({'title': titles, 'label': targets, 'pred': y_pred})\n",
    "pred_df['index'] = pred_df.index\n",
    "pred_df[pred_df['label'] != pred_df['pred']]\n",
    "false_pred = pred_df[pred_df['label'] != pred_df['pred']]['index'].tolist()\n",
    "false_pred"
   ]
  },
  {
   "cell_type": "markdown",
   "id": "2270f1b1",
   "metadata": {},
   "source": [
    "- Now let's take the first wrong prediction, document 8: \n",
    "- let's calculate it's euclidean distance of the other documents and see it's nearest neighbors."
   ]
  },
  {
   "cell_type": "code",
   "execution_count": 267,
   "id": "4068d25e",
   "metadata": {},
   "outputs": [
    {
     "name": "stdout",
     "output_type": "stream",
     "text": [
      "[0.2363937558840326, 0.15158752149727298, 0.16347377357787313, 0.04141545323613405, 0.10262512734237536, 0.11870205296664404, 0.14730374666190674, 0.13031892290057415, 0.9999999999999994, 0.2047050811534517, 0.18105386681968508, 0.1327707788450599, 0.08502317515325174, 0.19887169478617445, 0.26042343460881073, 0.16714577546126191, 0.07225393151588634, 0.0984677354801553, 0.12205029172479287, 0.12279293664011756, 0.10711837294438645, 0.1283134493002066, 0.18185954489228007, 0.1405524751576889, 0.11824101185788026, 0.13981335753370866, 0.15672529917948402, 0.18850243130557245, 0.0733026626432549, 0.10817736734691942, 0.030730551740238792, 0.1394868545815925, 0.18310186359154595, 0.08488191906610351, 0.16197083489617342, 0.09434774759724497, 0.1444856926407944, 0.12362253219899663, 0.07325095752924607, 0.06862233907048446, 0.22496324765865364, 0.14087586554207407, 0.24301239659891033, 0.12001756838278023, 0.21986719134183813, 0.14037221340231298, 0.1940086213170651, 0.0908992388807265, 0.09822176109482131, 0.10193875259529953, 0.125781415143714, 0.14895942743803137, 0.09999005182906215, 0.21093439134189992, 0.09975400687206988, 0.06268682399476334, 0.1710488310377628, 0.0531743668035832, 0.10427114124261355, 0.11089748058975037, 0.14618035708060537, 0.07662661389022482, 0.15286125517580051, 0.11795789432229754, 0.1747789653191095, 0.05704817541814136, 0.15716839851253991, 0.11115813158192873, 0.27761785680861706, 0.18074040656191973, 0.07341300103211289, 0.12190567354638811, 0.1276525922963443, 0.16005816190230868, 0.16994856073663975, 0.1115062016426127, 0.08147962960545424, 0.22008462061343215, 0.07516646968616537, 0.11932805890027597, 0.2253229486497601, 0.15473943246187186, 0.13793399343271504, 0.07190700295977671, 0.08573284569467554, 0.0517950516411581, 0.21938206636194796, 0.0978469887662467, 0.10918457800646936, 0.13719333896800223, 0.13661399505955893, 0.1349059291158469, 0.21926910044624925, 0.21406029567476376, 0.11565173206386055, 0.26017895100206867, 0.0983470168951289, 0.1618750306716408, 0.143263761856281, 0.08471473700405313]\n"
     ]
    }
   ],
   "source": [
    "doc = tfidf[8]\n",
    "cosine_sim = []\n",
    "for i in tfidf:\n",
    "    cosine_sim.append(cosine_similarity(doc, i))\n",
    "cosine_sim = [cosine_sim[i][0][0] for i in range(len(cosine_sim))]\n",
    "print(cosine_sim)"
   ]
  },
  {
   "cell_type": "code",
   "execution_count": 268,
   "id": "01f3f4b0",
   "metadata": {},
   "outputs": [
    {
     "name": "stdout",
     "output_type": "stream",
     "text": [
      "30\n",
      "3\n",
      "85\n"
     ]
    }
   ],
   "source": [
    "minimum_cosine_sim = [0.030730551740238792, 0.04141545323613405, 0.0517950516411581]\n",
    "for i in minimum_cosine_sim:\n",
    "    print(cosine_sim.index(i))\n"
   ]
  },
  {
   "cell_type": "markdown",
   "id": "13cb5e59",
   "metadata": {},
   "source": [
    "#### Support Vector Machine(SVM) Classifier"
   ]
  },
  {
   "cell_type": "markdown",
   "id": "15b386fc",
   "metadata": {},
   "source": [
    "Splitting train 90% - test 10%, fitting the model and predicting"
   ]
  },
  {
   "cell_type": "markdown",
   "id": "01f7edec",
   "metadata": {},
   "source": [
    "#### Conclusions: \n",
    "\n"
   ]
  },
  {
   "cell_type": "code",
   "execution_count": 271,
   "id": "4ab97c9a",
   "metadata": {},
   "outputs": [],
   "source": [
    "X_train, X_test, y_train, y_test = train_test_split(tfidf, targets, test_size=0.1,random_state=109)\n",
    "#create a classifier\n",
    "svm_cl = svm.SVC(kernel=\"linear\")\n",
    "#train the model\n",
    "svm_cl.fit(X_train,y_train)\n",
    "#predict the response\n",
    "pred = svm_cl.predict(X_test)"
   ]
  },
  {
   "cell_type": "code",
   "execution_count": 272,
   "id": "b9623cba",
   "metadata": {},
   "outputs": [
    {
     "data": {
      "text/plain": [
       "<sklearn.metrics._plot.confusion_matrix.ConfusionMatrixDisplay at 0x1ff1b9a9250>"
      ]
     },
     "execution_count": 272,
     "metadata": {},
     "output_type": "execute_result"
    },
    {
     "data": {
      "image/png": "[encoded data removed]",
      "text/plain": [
       "<Figure size 432x288 with 2 Axes>"
      ]
     },
     "metadata": {},
     "output_type": "display_data"
    }
   ],
   "source": [
    "plot_confusion_matrix(svm_cl,X_test,pred)"
   ]
  },
  {
   "cell_type": "code",
   "execution_count": 273,
   "id": "b63bb3d7",
   "metadata": {},
   "outputs": [
    {
     "name": "stdout",
     "output_type": "stream",
     "text": [
      "acuracy: 0.9\n"
     ]
    }
   ],
   "source": [
    "#accuracy\n",
    "print(\"acuracy:\", accuracy_score(y_test,y_pred=pred))"
   ]
  },
  {
   "cell_type": "markdown",
   "id": "a9827f5d",
   "metadata": {},
   "source": [
    "Confusion Matrix Describing The Resutls"
   ]
  },
  {
   "cell_type": "markdown",
   "id": "9791acaf",
   "metadata": {},
   "source": [
    "###### 10 Fold Cross Validation"
   ]
  },
  {
   "cell_type": "code",
   "execution_count": 283,
   "id": "e353303d",
   "metadata": {},
   "outputs": [
    {
     "name": "stdout",
     "output_type": "stream",
     "text": [
      "folds scores:\n",
      "[1.  0.9 0.9 1.  1.  1.  1.  0.9 1.  0.9]\n",
      "cv_scores average accuracy:0.96\n"
     ]
    }
   ],
   "source": [
    "svm_clf = svm.SVC(kernel = \"linear\")\n",
    "k = 10\n",
    "kf = model_selection.KFold(n_splits=k, shuffle = True,random_state=0)\n",
    "y_pred = cross_val_predict(svm_clf , tfidf, targets, cv=kf)\n",
    "cv_scores = cross_val_score(svm_clf, tfidf, targets, cv=10)\n",
    "#print each cv score (accuracy) and average them\n",
    "print('folds scores:')\n",
    "print(cv_scores)\n",
    "print('cv_scores average accuracy:{}'.format(sum(cv_scores)/10))"
   ]
  },
  {
   "cell_type": "code",
   "execution_count": 284,
   "id": "9dafa711",
   "metadata": {},
   "outputs": [
    {
     "data": {
      "text/html": [
       "<div>\n",
       "<style scoped>\n",
       "    .dataframe tbody tr th:only-of-type {\n",
       "        vertical-align: middle;\n",
       "    }\n",
       "\n",
       "    .dataframe tbody tr th {\n",
       "        vertical-align: top;\n",
       "    }\n",
       "\n",
       "    .dataframe thead th {\n",
       "        text-align: right;\n",
       "    }\n",
       "</style>\n",
       "<table border=\"1\" class=\"dataframe\">\n",
       "  <thead>\n",
       "    <tr style=\"text-align: right;\">\n",
       "      <th></th>\n",
       "      <th>title</th>\n",
       "      <th>label</th>\n",
       "      <th>pred</th>\n",
       "      <th>index</th>\n",
       "    </tr>\n",
       "  </thead>\n",
       "  <tbody>\n",
       "    <tr>\n",
       "      <th>8</th>\n",
       "      <td>CURATING DIGITAL IMAGES_ ETHNOGRAPHIC PERSPECT...</td>\n",
       "      <td>1</td>\n",
       "      <td>0</td>\n",
       "      <td>8</td>\n",
       "    </tr>\n",
       "    <tr>\n",
       "      <th>13</th>\n",
       "      <td>Exploring the Affective Museum Visiting Experi...</td>\n",
       "      <td>1</td>\n",
       "      <td>0</td>\n",
       "      <td>13</td>\n",
       "    </tr>\n",
       "    <tr>\n",
       "      <th>86</th>\n",
       "      <td>Exploring the potential of a mobile eye tracke...</td>\n",
       "      <td>0</td>\n",
       "      <td>1</td>\n",
       "      <td>86</td>\n",
       "    </tr>\n",
       "    <tr>\n",
       "      <th>97</th>\n",
       "      <td>Suitability of Eye Tracking in Assessing the V...</td>\n",
       "      <td>0</td>\n",
       "      <td>1</td>\n",
       "      <td>97</td>\n",
       "    </tr>\n",
       "  </tbody>\n",
       "</table>\n",
       "</div>"
      ],
      "text/plain": [
       "                                                title  label  pred  index\n",
       "8   CURATING DIGITAL IMAGES_ ETHNOGRAPHIC PERSPECT...      1     0      8\n",
       "13  Exploring the Affective Museum Visiting Experi...      1     0     13\n",
       "86  Exploring the potential of a mobile eye tracke...      0     1     86\n",
       "97  Suitability of Eye Tracking in Assessing the V...      0     1     97"
      ]
     },
     "execution_count": 284,
     "metadata": {},
     "output_type": "execute_result"
    }
   ],
   "source": [
    "pred_df = pd.DataFrame({'title': titles, 'label': targets, 'pred': y_pred})\n",
    "pred_df['index'] = pred_df.index\n",
    "pred_df[pred_df['label'] != pred_df['pred']]"
   ]
  },
  {
   "cell_type": "markdown",
   "id": "92b4a531",
   "metadata": {},
   "source": [
    "#### Conclusions: \n",
    "- One of the things that might cause wrong classifications in SVM is when we are using data that's dimensionality is far greater than the training datas size.\n"
   ]
  },
  {
   "cell_type": "code",
   "execution_count": 285,
   "id": "d709e64d",
   "metadata": {},
   "outputs": [
    {
     "data": {
      "text/html": [
       "<div>\n",
       "<style scoped>\n",
       "    .dataframe tbody tr th:only-of-type {\n",
       "        vertical-align: middle;\n",
       "    }\n",
       "\n",
       "    .dataframe tbody tr th {\n",
       "        vertical-align: top;\n",
       "    }\n",
       "\n",
       "    .dataframe thead th {\n",
       "        text-align: right;\n",
       "    }\n",
       "</style>\n",
       "<table border=\"1\" class=\"dataframe\">\n",
       "  <thead>\n",
       "    <tr style=\"text-align: right;\">\n",
       "      <th></th>\n",
       "      <th>model</th>\n",
       "      <th>Accuracy</th>\n",
       "      <th>10F CV AVG Accuracy</th>\n",
       "    </tr>\n",
       "  </thead>\n",
       "  <tbody>\n",
       "    <tr>\n",
       "      <th>0</th>\n",
       "      <td>Naive Bayes</td>\n",
       "      <td>0.8</td>\n",
       "      <td>0.92</td>\n",
       "    </tr>\n",
       "    <tr>\n",
       "      <th>1</th>\n",
       "      <td>Logistic Regression</td>\n",
       "      <td>0.9</td>\n",
       "      <td>0.94</td>\n",
       "    </tr>\n",
       "    <tr>\n",
       "      <th>2</th>\n",
       "      <td>KNN</td>\n",
       "      <td>0.9</td>\n",
       "      <td>0.89</td>\n",
       "    </tr>\n",
       "    <tr>\n",
       "      <th>3</th>\n",
       "      <td>SVM</td>\n",
       "      <td>0.9</td>\n",
       "      <td>0.96</td>\n",
       "    </tr>\n",
       "  </tbody>\n",
       "</table>\n",
       "</div>"
      ],
      "text/plain": [
       "                 model  Accuracy  10F CV AVG Accuracy\n",
       "0          Naive Bayes       0.8                 0.92\n",
       "1  Logistic Regression       0.9                 0.94\n",
       "2                  KNN       0.9                 0.89\n",
       "3                  SVM       0.9                 0.96"
      ]
     },
     "execution_count": 285,
     "metadata": {},
     "output_type": "execute_result"
    }
   ],
   "source": [
    "classification_df = pd.DataFrame({'model': ['Naive Bayes', 'Logistic Regression', 'KNN', 'SVM'],\n",
    "                                 'Accuracy': [0.8,0.9,0.9,0.9],\n",
    "                                 '10F CV AVG Accuracy': [0.92,0.94,0.89,0.96]})\n",
    "classification_df"
   ]
  },
  {
   "cell_type": "markdown",
   "id": "267f3e70",
   "metadata": {},
   "source": [
    "#### Conclusions: \n",
    "###### Naive Bayes\n",
    "- We have calculated above the probability for each document to belong to each of the categories based on the probability of each word of the top 10 words in Relevant, and top 10 words in non-relevant documents in each of the categories.\n",
    "- We can see clearly that if the document has more of the opposite categorys top words there is a higher probability that the classifier might classify it wrong.\n",
    "###### Logistic Regression\n",
    "- By looking at Probabilities we see that this way the false category might get higher probability than the true one. However this does not help us to understand the results including why those were classified falsly. \n",
    "- Points representing documents might fall in the area of the other category, as the plot shows, we can see that non-Relevant documents fall into Relevant side of the seperator, and the some relevant documents fall on the non-relevant side.\n",
    "###### KNN\n",
    "- Wrong classifications in KNN is usually due to the fact that it ignores centroids and classifies the document similar to the k most similar documents, in our case we used 3 nearest neighbors, the more the neighbors we use the more accurate the model becomes, but also it then is more comlex and slower. The cause of the wrong classification might be that we didn't use enough neighbors, and the nearest neighbors of these texts are from the different category. \n",
    "- The 3rd most cosine similar document is from a different class(category), so it's not a surprise if according to KNN's distance calculation the KNNs are from the other category.\n",
    "###### SVM\n",
    "- classifying using SVM is better when we have two classes, as the litureture indicates, when we have multi-class classification SVMs becomes less effecient."
   ]
  },
  {
   "cell_type": "markdown",
   "id": "1f286483",
   "metadata": {},
   "source": [
    "# Clustering"
   ]
  },
  {
   "cell_type": "markdown",
   "id": "9fcc0169",
   "metadata": {},
   "source": [
    "Looking at the various classifiers we can infer that most of the time the probability of a document to be catogerized to a certain category depending on the most important words in each one, and calculating their weight (it's occerneces*its weight) / total(weight*occorences) of other words in the document, we get that this has an impact and we can say that this is the main reason for the false classification"
   ]
  },
  {
   "cell_type": "code",
   "execution_count": 287,
   "id": "2a1356f7",
   "metadata": {},
   "outputs": [],
   "source": [
    "from sklearn.cluster import KMeans\n",
    "from sklearn.decomposition import PCA\n",
    "from sklearn.cluster import KMeans\n",
    "from sklearn.metrics import silhouette_score"
   ]
  },
  {
   "cell_type": "markdown",
   "id": "43561c1f",
   "metadata": {},
   "source": [
    "importing documents"
   ]
  },
  {
   "cell_type": "code",
   "execution_count": 288,
   "id": "d8d2a68b",
   "metadata": {},
   "outputs": [
    {
     "data": {
      "text/plain": [
       "['Augmented reality cultural heritage',\n",
       " 'Mobile Tourists Guides',\n",
       " 'Personalization in cultural heritage',\n",
       " 'Technolgy in Museums']"
      ]
     },
     "execution_count": 288,
     "metadata": {},
     "output_type": "execute_result"
    }
   ],
   "source": [
    "os.listdir('Clusters')"
   ]
  },
  {
   "cell_type": "code",
   "execution_count": 457,
   "id": "6b74ce81",
   "metadata": {
    "scrolled": true
   },
   "outputs": [],
   "source": [
    "titles  = []\n",
    "X  = []\n",
    "y = []\n",
    "document_list = []\n",
    "cluster_map = {0: 'Eye tracking museum',\n",
    "              1:  'Augmented reality cultural heritage',\n",
    "              2:  'Mobile Tourists Guides',\n",
    "              3:  'Personalization in cultural heritage' }\n",
    "for doc in os.listdir('nltk_data'):\n",
    "    file = open('nltk_data/' + doc,encoding ='utf-8')\n",
    "    X.append(file.read())\n",
    "    y.append(0)\n",
    "    titles.append(doc)\n",
    "\n",
    "    \n",
    "#reading documents from other directories\n",
    "for doc in os.listdir('Clusters/Augmented reality cultural heritage/'):\n",
    "    file = open('Clusters/Augmented reality cultural heritage/' + doc,encoding ='utf-8')\n",
    "    X.append(file.read())\n",
    "    y.append(1)\n",
    "    titles.append(doc)\n",
    "\n",
    "for doc in os.listdir('Clusters/Mobile Tourists Guides/'):\n",
    "    file = open('Clusters/Mobile Tourists Guides/' + doc,encoding ='utf-8')\n",
    "    X.append(file.read())\n",
    "    y.append(2)\n",
    "    titles.append(doc)\n",
    "       \n",
    "for doc in os.listdir('Clusters/Personalization in cultural heritage/'):\n",
    "    file = open('Clusters/Personalization in cultural heritage/' + doc,encoding ='utf-8')\n",
    "    X.append(file.read())\n",
    "    y.append(3)\n",
    "    titles.append(doc)\n",
    "document_list = X"
   ]
  },
  {
   "cell_type": "markdown",
   "id": "853616b9",
   "metadata": {},
   "source": [
    "TFiDF vectorizing for all documents"
   ]
  },
  {
   "cell_type": "code",
   "execution_count": 458,
   "id": "1d589f55",
   "metadata": {},
   "outputs": [
    {
     "data": {
      "text/plain": [
       "<200x102208 sparse matrix of type '<class 'numpy.float64'>'\n",
       "\twith 265940 stored elements in Compressed Sparse Row format>"
      ]
     },
     "execution_count": 458,
     "metadata": {},
     "output_type": "execute_result"
    }
   ],
   "source": [
    "vectorizer = TfidfVectorizer(tokenizer=tokenize)\n",
    "X = vectorizer.fit_transform(X)\n",
    "X"
   ]
  },
  {
   "cell_type": "markdown",
   "id": "5c7ab818",
   "metadata": {},
   "source": [
    "Fitting the model with 4 clusters"
   ]
  },
  {
   "cell_type": "code",
   "execution_count": 459,
   "id": "1d4fa3ea",
   "metadata": {},
   "outputs": [
    {
     "data": {
      "text/plain": [
       "array([0, 0, 0, 0, 0, 0, 0, 0, 3, 0, 0, 3, 0, 3, 0, 0, 0, 0, 0, 0, 0, 0,\n",
       "       3, 0, 0, 0, 0, 0, 0, 3, 0, 0, 0, 0, 0, 0, 0, 0, 0, 0, 0, 0, 0, 0,\n",
       "       0, 3, 0, 0, 0, 0, 1, 1, 1, 1, 3, 1, 1, 1, 1, 1, 1, 1, 1, 1, 1, 1,\n",
       "       1, 1, 1, 1, 1, 1, 1, 1, 1, 1, 1, 3, 1, 1, 1, 1, 1, 1, 1, 1, 1, 1,\n",
       "       3, 1, 1, 1, 3, 1, 1, 1, 3, 1, 1, 1, 2, 2, 2, 2, 2, 2, 2, 2, 2, 3,\n",
       "       2, 2, 2, 2, 2, 2, 2, 3, 2, 2, 2, 2, 2, 2, 2, 2, 2, 3, 2, 2, 2, 2,\n",
       "       2, 2, 2, 3, 2, 2, 2, 2, 2, 2, 2, 2, 2, 2, 2, 2, 2, 2, 3, 3, 2, 3,\n",
       "       3, 3, 3, 3, 3, 3, 3, 3, 3, 3, 3, 3, 3, 3, 3, 3, 0, 3, 3, 3, 3, 3,\n",
       "       1, 3, 3, 3, 3, 3, 3, 3, 3, 3, 3, 3, 3, 3, 2, 3, 2, 1, 3, 3, 0, 3,\n",
       "       3, 3])"
      ]
     },
     "execution_count": 459,
     "metadata": {},
     "output_type": "execute_result"
    }
   ],
   "source": [
    "#  = KMeans(n_clusters=4, random_state=42)\n",
    "kmeans = KMeans(init=\"k-means++\", n_clusters=4,max_iter=25)\n",
    "\n",
    "# fit the model\n",
    "labels = kmeans.fit(X)\n",
    "clusters = kmeans.labels_\n",
    "clusters"
   ]
  },
  {
   "cell_type": "markdown",
   "id": "b530ab10",
   "metadata": {},
   "source": [
    "#### Confusion Maxtrix Showing Results\n"
   ]
  },
  {
   "cell_type": "code",
   "execution_count": 460,
   "id": "34c2598d",
   "metadata": {
    "scrolled": false
   },
   "outputs": [
    {
     "data": {
      "image/png": "[encoded data removed]",
      "text/plain": [
       "<Figure size 432x288 with 2 Axes>"
      ]
     },
     "metadata": {},
     "output_type": "display_data"
    }
   ],
   "source": [
    "cm =confusion_matrix(y,clusters)\n",
    "ax = sns.heatmap(cm, annot=True, cmap='Blues')\n",
    "\n",
    "ax.set_title('Seaborn Confusion Matrix with labels\\n\\n');\n",
    "ax.set_xlabel('\\nPredicted Values')\n",
    "ax.set_ylabel('Actual Values ');\n",
    "\n",
    "\n",
    "## Display the visualization of the Confusion Matrix.\n",
    "plt.show()"
   ]
  },
  {
   "cell_type": "markdown",
   "id": "7a0fdb08",
   "metadata": {},
   "source": [
    "<b> Wrong Cluster Assignments:</b> \n",
    "- 6 documents of class 0 (Eye Tracking Museum) were grouped with the (Personalization in cultural heritage) class.\n",
    "- 5 document of class 1 (Augmented reality cultural heritage) was grouped with (Personalization in cultural heritage) class.\n",
    "- 4 documents of class (Mobile Tourists Guides) were grouped with  (Personalization in cultural heritage) class.\n",
    "- 7 documents of class (Personalization in cultural heritage) were grouped with other clusters. "
   ]
  },
  {
   "cell_type": "markdown",
   "id": "fce145b8",
   "metadata": {},
   "source": [
    "### Evaluating Clustering using Adjusted Rand Index"
   ]
  },
  {
   "cell_type": "code",
   "execution_count": 461,
   "id": "02e7ed79",
   "metadata": {},
   "outputs": [
    {
     "name": "stdout",
     "output_type": "stream",
     "text": [
      "Adjusted Rand Index: 0.7267123078644598\n"
     ]
    }
   ],
   "source": [
    "from sklearn.metrics.cluster import adjusted_rand_score\n",
    "print('Adjusted Rand Index: ' + str(adjusted_rand_score(y, clusters)))"
   ]
  },
  {
   "cell_type": "markdown",
   "id": "08740003",
   "metadata": {},
   "source": [
    "Rand idex computes the randomness in the classification. here we're talking about grouping, so we are measuring the randomness of the affiliation of clusters made by kmeans, we got a moderate score. "
   ]
  },
  {
   "cell_type": "markdown",
   "id": "cd519d8e",
   "metadata": {},
   "source": [
    "Dimensional Reduction and Visualization\n",
    "- using PCA"
   ]
  },
  {
   "cell_type": "code",
   "execution_count": 462,
   "id": "b16c2177",
   "metadata": {},
   "outputs": [],
   "source": [
    "pca = PCA(n_components=2, random_state=42)\n",
    "pca_vecs = pca.fit_transform(X.toarray())\n",
    "x0 = pca_vecs[:, 0]\n",
    "x1 = pca_vecs[:, 1]"
   ]
  },
  {
   "cell_type": "markdown",
   "id": "ff13d2d3",
   "metadata": {},
   "source": [
    "represinting each document as 2 diminsional"
   ]
  },
  {
   "cell_type": "code",
   "execution_count": 463,
   "id": "87b90e9c",
   "metadata": {
    "scrolled": true
   },
   "outputs": [
    {
     "data": {
      "text/plain": [
       "array([ 0.32924258,  0.32750529,  0.21814076,  0.08906725,  0.17825061,\n",
       "        0.23733876,  0.30216408,  0.25734452,  0.13497119,  0.23767446,\n",
       "        0.34625932,  0.1403021 ,  0.29890037,  0.12826784,  0.45180096,\n",
       "        0.30982092,  0.17290097,  0.15547163,  0.45866408,  0.38766295,\n",
       "        0.40181958,  0.28533   ,  0.12145614,  0.31278995,  0.42489998,\n",
       "        0.18493132,  0.54420579,  0.23042235,  0.15230888,  0.06980411,\n",
       "        0.05693256,  0.35402565,  0.28934749,  0.10923984,  0.33921358,\n",
       "        0.26682957,  0.54331301,  0.44718083,  0.15806688,  0.16830076,\n",
       "        0.43433509,  0.36906492,  0.31920523,  0.22017993,  0.25323512,\n",
       "        0.19948314,  0.37686367,  0.09858241,  0.25568709,  0.31741804,\n",
       "       -0.01817864, -0.05679764,  0.0311626 ,  0.09313564,  0.05861179,\n",
       "       -0.11255065, -0.00583818, -0.06969473, -0.03033107, -0.03587189,\n",
       "        0.06244958,  0.11954271,  0.01110868, -0.028878  , -0.00763037,\n",
       "       -0.10341298, -0.05052168, -0.08617419, -0.07988234, -0.05656791,\n",
       "        0.0184727 ,  0.02825436, -0.02620601,  0.00854628, -0.08658325,\n",
       "       -0.07020705, -0.03823939, -0.04262277,  0.00848992,  0.00903311,\n",
       "       -0.06611817, -0.079964  , -0.09505973, -0.11016455, -0.12904962,\n",
       "       -0.00190768, -0.16761138, -0.08119396,  0.05944317, -0.0751627 ,\n",
       "       -0.03216679, -0.15301069,  0.06611419, -0.12175824,  0.04342195,\n",
       "       -0.02503132,  0.02120726, -0.03038205, -0.071817  ,  0.03625466,\n",
       "       -0.18243638, -0.18678879, -0.22449188, -0.1538349 , -0.17645077,\n",
       "       -0.29980462, -0.17772646, -0.32620904, -0.16622053, -0.09590225,\n",
       "       -0.21647686, -0.12961111, -0.26427957, -0.2726122 , -0.18743707,\n",
       "       -0.17706267, -0.13288693, -0.03326364, -0.17675743, -0.12632149,\n",
       "       -0.19322607, -0.08784285, -0.16189936, -0.23023468, -0.22168129,\n",
       "       -0.24487605, -0.17918752, -0.0826888 , -0.14194909, -0.20875936,\n",
       "       -0.09875232, -0.10811062, -0.32334676, -0.20088878, -0.17624216,\n",
       "       -0.03504839, -0.16445257, -0.17940648, -0.1873952 , -0.14535581,\n",
       "       -0.20186501, -0.28633583, -0.06356347, -0.14578898, -0.14149112,\n",
       "       -0.24153765, -0.20012551, -0.07710555, -0.22481512, -0.18781172,\n",
       "        0.12109115, -0.10384217, -0.2172547 , -0.06214361, -0.07974295,\n",
       "       -0.09873208,  0.11850685, -0.06764967, -0.03838962, -0.11710085,\n",
       "       -0.14643275, -0.07183616, -0.18880894, -0.06332093,  0.06374745,\n",
       "       -0.02597407,  0.00928878, -0.08663714,  0.03214856, -0.14197587,\n",
       "        0.33659725,  0.07445062,  0.01309307,  0.07220541, -0.02375562,\n",
       "       -0.08056544,  0.01073321, -0.10503542, -0.09800537, -0.0339611 ,\n",
       "       -0.07699217, -0.01450709, -0.19086759, -0.054344  , -0.10363946,\n",
       "       -0.14392991, -0.07846791, -0.20418966, -0.10976977, -0.0689727 ,\n",
       "       -0.26275081, -0.11720525, -0.17391302, -0.08119396, -0.09540862,\n",
       "       -0.13479686,  0.11723389, -0.10940738, -0.04753985, -0.09656253])"
      ]
     },
     "execution_count": 463,
     "metadata": {},
     "output_type": "execute_result"
    }
   ],
   "source": [
    "x0"
   ]
  },
  {
   "cell_type": "code",
   "execution_count": 464,
   "id": "d20c8d99",
   "metadata": {},
   "outputs": [
    {
     "data": {
      "text/plain": [
       "array([-0.13022555, -0.14956646, -0.05735206, -0.05503603,  0.02977454,\n",
       "        0.02240595,  0.04497833, -0.07122925,  0.03045699, -0.09380379,\n",
       "       -0.09057028, -0.0267793 , -0.12116138,  0.19089633, -0.15628428,\n",
       "       -0.09414629, -0.07598434, -0.04710993, -0.1931126 , -0.07229041,\n",
       "       -0.0094699 , -0.10163586, -0.06743352, -0.07863128, -0.10364149,\n",
       "       -0.04010547, -0.24257188, -0.05290771, -0.04411407, -0.02286632,\n",
       "       -0.04896879, -0.11117468, -0.09041092, -0.0256173 , -0.12591004,\n",
       "       -0.06548065, -0.23113399, -0.12643577, -0.10655263, -0.02078909,\n",
       "       -0.10893978, -0.1238524 , -0.07664536, -0.08458555, -0.05669436,\n",
       "       -0.06063232, -0.15460213, -0.03050247,  0.05775758, -0.15586806,\n",
       "        0.20227153,  0.08349287,  0.19603292,  0.20119266,  0.22356316,\n",
       "        0.30770022,  0.21848796,  0.13110778,  0.27760931,  0.27208949,\n",
       "        0.24427094,  0.22226112,  0.08914159,  0.32065764,  0.21710971,\n",
       "        0.29648604,  0.50803564,  0.18922202,  0.25054961,  0.22488687,\n",
       "        0.48926701,  0.24074648,  0.33792449,  0.10899448,  0.26010286,\n",
       "        0.06487555,  0.26121384,  0.15306411,  0.1280094 ,  0.08599185,\n",
       "        0.29432221,  0.22458769,  0.24728654,  0.20221235,  0.11076802,\n",
       "        0.2329246 ,  0.19078017,  0.51102879,  0.25357549,  0.24527616,\n",
       "        0.33212679,  0.30984758,  0.17325929,  0.33783085,  0.15728441,\n",
       "        0.25906262,  0.06921606,  0.22940409,  0.16883574,  0.3179895 ,\n",
       "       -0.02743454, -0.22145339, -0.18889152, -0.14336698, -0.16429576,\n",
       "       -0.22078098, -0.21841655, -0.29622877, -0.1983626 , -0.06429331,\n",
       "       -0.26986876, -0.17697821, -0.27062411, -0.18601589, -0.13923906,\n",
       "       -0.18475415, -0.16361794, -0.05410237, -0.18776904, -0.10287868,\n",
       "       -0.16165577, -0.09613772, -0.1486532 , -0.16974251, -0.16685422,\n",
       "       -0.26594134, -0.26688555, -0.05474545, -0.08134109, -0.2205781 ,\n",
       "       -0.18801424, -0.18308195, -0.23594808, -0.17000173, -0.14428798,\n",
       "       -0.03731049, -0.15668268, -0.16542301, -0.1658647 , -0.16648948,\n",
       "       -0.23238458, -0.26944075, -0.10591654, -0.17040246, -0.23138512,\n",
       "       -0.28388617, -0.22972132, -0.14892453, -0.21612563, -0.14189036,\n",
       "       -0.02305959, -0.04537375, -0.15340721, -0.01440551, -0.05992203,\n",
       "       -0.03082619,  0.02237351,  0.03354496,  0.19173019, -0.0056128 ,\n",
       "       -0.03010892,  0.06720964,  0.02524662,  0.01652357,  0.07326466,\n",
       "        0.10530111, -0.01204904, -0.04292037, -0.03658146,  0.09066933,\n",
       "       -0.17948088, -0.00541948,  0.00203033,  0.02464851,  0.02610289,\n",
       "        0.05190499,  0.25926892, -0.03085312,  0.01479606,  0.06237452,\n",
       "       -0.03932229, -0.03587088,  0.02293799, -0.02486641,  0.01822214,\n",
       "        0.0344928 , -0.03221176, -0.04594905,  0.12571288, -0.03111175,\n",
       "       -0.15906503, -0.08448333, -0.10955911,  0.51102879,  0.11300519,\n",
       "       -0.04902017, -0.00472855, -0.00614768,  0.05268984,  0.05494413])"
      ]
     },
     "execution_count": 464,
     "metadata": {},
     "output_type": "execute_result"
    }
   ],
   "source": [
    "x1"
   ]
  },
  {
   "cell_type": "code",
   "execution_count": 465,
   "id": "f342df6a",
   "metadata": {},
   "outputs": [],
   "source": [
    "df  = pd.DataFrame({'title': titles, 'label': y, 'cluster': clusters,  'x0': x0 ,'x1': x1})\n",
    "df['cluster'] = df['cluster'].map(cluster_map)\n",
    "df['label'] = df['label'].map(cluster_map)"
   ]
  },
  {
   "cell_type": "markdown",
   "id": "e2dcb034",
   "metadata": {},
   "source": [
    "Visualization of Clustering"
   ]
  },
  {
   "cell_type": "code",
   "execution_count": 521,
   "id": "0d47be12",
   "metadata": {},
   "outputs": [],
   "source": [
    "pca_vecs = pca.fit_transform(kmeans.cluster_centers_)\n",
    "x0_cent = pca_vecs[:, 0]\n",
    "x1_cent = pca_vecs[:, 1]"
   ]
  },
  {
   "cell_type": "code",
   "execution_count": 524,
   "id": "541b4e07",
   "metadata": {
    "scrolled": true
   },
   "outputs": [
    {
     "data": {
      "image/png": "[encoded data removed]",
      "text/plain": [
       "<Figure size 864x504 with 1 Axes>"
      ]
     },
     "metadata": {},
     "output_type": "display_data"
    }
   ],
   "source": [
    "plt.figure(figsize=(12, 7))\n",
    "# set a title\n",
    "plt.title(\"TF-IDF + KMeans clustering\", fontdict={\"fontsize\": 18})\n",
    "# set axes names\n",
    "plt.xlabel(\"X0\", fontdict={\"fontsize\": 16})\n",
    "plt.ylabel(\"X1\", fontdict={\"fontsize\": 16})\n",
    "# create scatter plot with seaborn, where hue is the class used to group the data\n",
    "sns.scatterplot(data=df, x='x0', y='x1', hue='cluster', palette=\"viridis\")\n",
    "plt.scatter(x0_cent, x1_cent, marker = '*')\n",
    "plt.show()"
   ]
  },
  {
   "cell_type": "markdown",
   "id": "102d6586",
   "metadata": {},
   "source": [
    "##### Results"
   ]
  },
  {
   "cell_type": "markdown",
   "id": "84428d5a",
   "metadata": {},
   "source": [
    "True Labels of Cluster 0: documentID : 0-49 <br>\n",
    "True Labels of Cluster 1: documentID : 50-99 <br>\n",
    "True Labels of Cluster 2: documentID : 100-149 <br>\n",
    "True Labels of Cluster 3: documentID : 150-199 "
   ]
  },
  {
   "cell_type": "markdown",
   "id": "4086fae4",
   "metadata": {},
   "source": []
  },
  {
   "cell_type": "code",
   "execution_count": 535,
   "id": "a2398313",
   "metadata": {},
   "outputs": [
    {
     "name": "stdout",
     "output_type": "stream",
     "text": [
      "Cluster 0:\n",
      "predicted Documents: 46\n",
      "Int64Index([  0,   1,   2,   3,   4,   5,   6,   7,   9,  10,  12,  14,  15,\n",
      "             16,  17,  18,  19,  20,  21,  23,  24,  25,  26,  27,  28,  30,\n",
      "             31,  32,  33,  34,  35,  36,  37,  38,  39,  40,  41,  42,  43,\n",
      "             44,  46,  47,  48,  49, 170, 196],\n",
      "           dtype='int64')\n",
      "=====================================================\n",
      "Cluster 1:\n",
      "predicted Documents: 47\n",
      "Int64Index([ 50,  51,  52,  53,  55,  56,  57,  58,  59,  60,  61,  62,  63,\n",
      "             64,  65,  66,  67,  68,  69,  70,  71,  72,  73,  74,  75,  76,\n",
      "             78,  79,  80,  81,  82,  83,  84,  85,  86,  87,  89,  90,  91,\n",
      "             93,  94,  95,  97,  98,  99, 176, 193],\n",
      "           dtype='int64')\n",
      "=====================================================\n",
      "Cluster 2:\n",
      "predicted Documents: 49\n",
      "Int64Index([100, 101, 102, 103, 104, 105, 106, 107, 108, 110, 111, 112, 113,\n",
      "            114, 115, 116, 118, 119, 120, 121, 122, 123, 124, 125, 126, 128,\n",
      "            129, 130, 131, 132, 133, 134, 136, 137, 138, 139, 140, 141, 142,\n",
      "            143, 144, 145, 146, 147, 148, 149, 152, 190, 192],\n",
      "           dtype='int64')\n",
      "=====================================================\n",
      "Cluster 3:\n",
      "predicted Documents: 58\n",
      "Int64Index([  8,  11,  13,  22,  29,  45,  54,  77,  88,  92,  96, 109, 117,\n",
      "            127, 135, 150, 151, 153, 154, 155, 156, 157, 158, 159, 160, 161,\n",
      "            162, 163, 164, 165, 166, 167, 168, 169, 171, 172, 173, 174, 175,\n",
      "            177, 178, 179, 180, 181, 182, 183, 184, 185, 186, 187, 188, 189,\n",
      "            191, 194, 195, 197, 198, 199],\n",
      "           dtype='int64')\n"
     ]
    }
   ],
   "source": [
    "print('Cluster 0:')\n",
    "print('predicted Documents:', str(len(df[df['cluster'] == 'Eye tracking museum'])))\n",
    "print(df[df['cluster'] == 'Eye tracking museum'].index)\n",
    "print('=====================================================')\n",
    "print('Cluster 1:')\n",
    "print('predicted Documents:', str(len(df[df['cluster'] == 'Augmented reality cultural heritage'])))\n",
    "print(df[df['cluster'] == 'Augmented reality cultural heritage'].index)\n",
    "print('=====================================================')\n",
    "print('Cluster 2:')\n",
    "print('predicted Documents:', str(len(df[df['cluster'] == 'Mobile Tourists Guides'])))\n",
    "print(df[df['cluster'] == 'Mobile Tourists Guides'].index)\n",
    "print('=====================================================')\n",
    "print('Cluster 3:')\n",
    "print('predicted Documents:', str(len(df[df['cluster'] == 'Personalization in cultural heritage'])))\n",
    "print(df[df['cluster'] == 'Personalization in cultural heritage'].index)"
   ]
  },
  {
   "cell_type": "markdown",
   "id": "52f47438",
   "metadata": {},
   "source": [
    "wrongly predicted documents"
   ]
  },
  {
   "cell_type": "code",
   "execution_count": 467,
   "id": "5cfe0029",
   "metadata": {
    "scrolled": true
   },
   "outputs": [
    {
     "data": {
      "text/html": [
       "<div>\n",
       "<style scoped>\n",
       "    .dataframe tbody tr th:only-of-type {\n",
       "        vertical-align: middle;\n",
       "    }\n",
       "\n",
       "    .dataframe tbody tr th {\n",
       "        vertical-align: top;\n",
       "    }\n",
       "\n",
       "    .dataframe thead th {\n",
       "        text-align: right;\n",
       "    }\n",
       "</style>\n",
       "<table border=\"1\" class=\"dataframe\">\n",
       "  <thead>\n",
       "    <tr style=\"text-align: right;\">\n",
       "      <th></th>\n",
       "      <th>title</th>\n",
       "      <th>label</th>\n",
       "      <th>cluster</th>\n",
       "      <th>x0</th>\n",
       "      <th>x1</th>\n",
       "    </tr>\n",
       "  </thead>\n",
       "  <tbody>\n",
       "    <tr>\n",
       "      <th>8</th>\n",
       "      <td>CURATING DIGITAL IMAGES_ ETHNOGRAPHIC PERSPECT...</td>\n",
       "      <td>Eye tracking museum</td>\n",
       "      <td>Personalization in cultural heritage</td>\n",
       "      <td>0.134971</td>\n",
       "      <td>0.030457</td>\n",
       "    </tr>\n",
       "    <tr>\n",
       "      <th>11</th>\n",
       "      <td>Does Viewing Art in the Museum Reduce Anxiety ...</td>\n",
       "      <td>Eye tracking museum</td>\n",
       "      <td>Personalization in cultural heritage</td>\n",
       "      <td>0.140302</td>\n",
       "      <td>-0.026779</td>\n",
       "    </tr>\n",
       "    <tr>\n",
       "      <th>13</th>\n",
       "      <td>Exploring the Affective Museum Visiting Experi...</td>\n",
       "      <td>Eye tracking museum</td>\n",
       "      <td>Personalization in cultural heritage</td>\n",
       "      <td>0.128268</td>\n",
       "      <td>0.190896</td>\n",
       "    </tr>\n",
       "    <tr>\n",
       "      <th>22</th>\n",
       "      <td>Full Access to Cultural Spaces (FACS)_ Mapping...</td>\n",
       "      <td>Eye tracking museum</td>\n",
       "      <td>Personalization in cultural heritage</td>\n",
       "      <td>0.121456</td>\n",
       "      <td>-0.067434</td>\n",
       "    </tr>\n",
       "    <tr>\n",
       "      <th>29</th>\n",
       "      <td>Linguistics in a Science Museum_ Integrating R...</td>\n",
       "      <td>Eye tracking museum</td>\n",
       "      <td>Personalization in cultural heritage</td>\n",
       "      <td>0.069804</td>\n",
       "      <td>-0.022866</td>\n",
       "    </tr>\n",
       "    <tr>\n",
       "      <th>45</th>\n",
       "      <td>using eye movement data and visit contexts to ...</td>\n",
       "      <td>Eye tracking museum</td>\n",
       "      <td>Personalization in cultural heritage</td>\n",
       "      <td>0.199483</td>\n",
       "      <td>-0.060632</td>\n",
       "    </tr>\n",
       "    <tr>\n",
       "      <th>54</th>\n",
       "      <td>Adaptive augmented reality for cultural herita...</td>\n",
       "      <td>Augmented reality cultural heritage</td>\n",
       "      <td>Personalization in cultural heritage</td>\n",
       "      <td>0.058612</td>\n",
       "      <td>0.223563</td>\n",
       "    </tr>\n",
       "    <tr>\n",
       "      <th>77</th>\n",
       "      <td>iMARECULTURE.txt</td>\n",
       "      <td>Augmented reality cultural heritage</td>\n",
       "      <td>Personalization in cultural heritage</td>\n",
       "      <td>-0.042623</td>\n",
       "      <td>0.153064</td>\n",
       "    </tr>\n",
       "    <tr>\n",
       "      <th>88</th>\n",
       "      <td>Tailoring the Adaptive Augmented Reality (A2R)...</td>\n",
       "      <td>Augmented reality cultural heritage</td>\n",
       "      <td>Personalization in cultural heritage</td>\n",
       "      <td>0.059443</td>\n",
       "      <td>0.253575</td>\n",
       "    </tr>\n",
       "    <tr>\n",
       "      <th>92</th>\n",
       "      <td>The Augmented Van Gogh’s Augmented Reality.txt</td>\n",
       "      <td>Augmented reality cultural heritage</td>\n",
       "      <td>Personalization in cultural heritage</td>\n",
       "      <td>0.066114</td>\n",
       "      <td>0.173259</td>\n",
       "    </tr>\n",
       "    <tr>\n",
       "      <th>96</th>\n",
       "      <td>Tooteko A case study of augmented reality for ...</td>\n",
       "      <td>Augmented reality cultural heritage</td>\n",
       "      <td>Personalization in cultural heritage</td>\n",
       "      <td>0.021207</td>\n",
       "      <td>0.069216</td>\n",
       "    </tr>\n",
       "    <tr>\n",
       "      <th>109</th>\n",
       "      <td>Augmenting the City with Fiction Fictional Req...</td>\n",
       "      <td>Mobile Tourists Guides</td>\n",
       "      <td>Personalization in cultural heritage</td>\n",
       "      <td>-0.095902</td>\n",
       "      <td>-0.064293</td>\n",
       "    </tr>\n",
       "    <tr>\n",
       "      <th>117</th>\n",
       "      <td>Designing a mobile app for museums according t...</td>\n",
       "      <td>Mobile Tourists Guides</td>\n",
       "      <td>Personalization in cultural heritage</td>\n",
       "      <td>-0.033264</td>\n",
       "      <td>-0.054102</td>\n",
       "    </tr>\n",
       "    <tr>\n",
       "      <th>127</th>\n",
       "      <td>Location Aware Mobile Interactive Guides Usabi...</td>\n",
       "      <td>Mobile Tourists Guides</td>\n",
       "      <td>Personalization in cultural heritage</td>\n",
       "      <td>-0.082689</td>\n",
       "      <td>-0.054745</td>\n",
       "    </tr>\n",
       "    <tr>\n",
       "      <th>135</th>\n",
       "      <td>REXplorer A Mobile, Pervasive Spell-Casting Ga...</td>\n",
       "      <td>Mobile Tourists Guides</td>\n",
       "      <td>Personalization in cultural heritage</td>\n",
       "      <td>-0.035048</td>\n",
       "      <td>-0.037310</td>\n",
       "    </tr>\n",
       "    <tr>\n",
       "      <th>152</th>\n",
       "      <td>A framework for Itinerary Personalization in C...</td>\n",
       "      <td>Personalization in cultural heritage</td>\n",
       "      <td>Mobile Tourists Guides</td>\n",
       "      <td>-0.217255</td>\n",
       "      <td>-0.153407</td>\n",
       "    </tr>\n",
       "    <tr>\n",
       "      <th>170</th>\n",
       "      <td>Exploring the potential of a mobile eye tracke...</td>\n",
       "      <td>Personalization in cultural heritage</td>\n",
       "      <td>Eye tracking museum</td>\n",
       "      <td>0.336597</td>\n",
       "      <td>-0.179481</td>\n",
       "    </tr>\n",
       "    <tr>\n",
       "      <th>176</th>\n",
       "      <td>Merging Augmented Reality Based Features in Mo...</td>\n",
       "      <td>Personalization in cultural heritage</td>\n",
       "      <td>Augmented reality cultural heritage</td>\n",
       "      <td>0.010733</td>\n",
       "      <td>0.259269</td>\n",
       "    </tr>\n",
       "    <tr>\n",
       "      <th>190</th>\n",
       "      <td>Research Issues in Personalization of Mobile S...</td>\n",
       "      <td>Personalization in cultural heritage</td>\n",
       "      <td>Mobile Tourists Guides</td>\n",
       "      <td>-0.262751</td>\n",
       "      <td>-0.159065</td>\n",
       "    </tr>\n",
       "    <tr>\n",
       "      <th>192</th>\n",
       "      <td>Smart Spaces Based Construction and Personaliz...</td>\n",
       "      <td>Personalization in cultural heritage</td>\n",
       "      <td>Mobile Tourists Guides</td>\n",
       "      <td>-0.173913</td>\n",
       "      <td>-0.109559</td>\n",
       "    </tr>\n",
       "    <tr>\n",
       "      <th>193</th>\n",
       "      <td>Survey Using Augmented Reality to Improve Lear...</td>\n",
       "      <td>Personalization in cultural heritage</td>\n",
       "      <td>Augmented reality cultural heritage</td>\n",
       "      <td>-0.081194</td>\n",
       "      <td>0.511029</td>\n",
       "    </tr>\n",
       "    <tr>\n",
       "      <th>196</th>\n",
       "      <td>Visualization of Cultural-Heritage Content bas...</td>\n",
       "      <td>Personalization in cultural heritage</td>\n",
       "      <td>Eye tracking museum</td>\n",
       "      <td>0.117234</td>\n",
       "      <td>-0.004729</td>\n",
       "    </tr>\n",
       "  </tbody>\n",
       "</table>\n",
       "</div>"
      ],
      "text/plain": [
       "                                                 title  \\\n",
       "8    CURATING DIGITAL IMAGES_ ETHNOGRAPHIC PERSPECT...   \n",
       "11   Does Viewing Art in the Museum Reduce Anxiety ...   \n",
       "13   Exploring the Affective Museum Visiting Experi...   \n",
       "22   Full Access to Cultural Spaces (FACS)_ Mapping...   \n",
       "29   Linguistics in a Science Museum_ Integrating R...   \n",
       "45   using eye movement data and visit contexts to ...   \n",
       "54   Adaptive augmented reality for cultural herita...   \n",
       "77                                    iMARECULTURE.txt   \n",
       "88   Tailoring the Adaptive Augmented Reality (A2R)...   \n",
       "92      The Augmented Van Gogh’s Augmented Reality.txt   \n",
       "96   Tooteko A case study of augmented reality for ...   \n",
       "109  Augmenting the City with Fiction Fictional Req...   \n",
       "117  Designing a mobile app for museums according t...   \n",
       "127  Location Aware Mobile Interactive Guides Usabi...   \n",
       "135  REXplorer A Mobile, Pervasive Spell-Casting Ga...   \n",
       "152  A framework for Itinerary Personalization in C...   \n",
       "170  Exploring the potential of a mobile eye tracke...   \n",
       "176  Merging Augmented Reality Based Features in Mo...   \n",
       "190  Research Issues in Personalization of Mobile S...   \n",
       "192  Smart Spaces Based Construction and Personaliz...   \n",
       "193  Survey Using Augmented Reality to Improve Lear...   \n",
       "196  Visualization of Cultural-Heritage Content bas...   \n",
       "\n",
       "                                    label  \\\n",
       "8                     Eye tracking museum   \n",
       "11                    Eye tracking museum   \n",
       "13                    Eye tracking museum   \n",
       "22                    Eye tracking museum   \n",
       "29                    Eye tracking museum   \n",
       "45                    Eye tracking museum   \n",
       "54    Augmented reality cultural heritage   \n",
       "77    Augmented reality cultural heritage   \n",
       "88    Augmented reality cultural heritage   \n",
       "92    Augmented reality cultural heritage   \n",
       "96    Augmented reality cultural heritage   \n",
       "109                Mobile Tourists Guides   \n",
       "117                Mobile Tourists Guides   \n",
       "127                Mobile Tourists Guides   \n",
       "135                Mobile Tourists Guides   \n",
       "152  Personalization in cultural heritage   \n",
       "170  Personalization in cultural heritage   \n",
       "176  Personalization in cultural heritage   \n",
       "190  Personalization in cultural heritage   \n",
       "192  Personalization in cultural heritage   \n",
       "193  Personalization in cultural heritage   \n",
       "196  Personalization in cultural heritage   \n",
       "\n",
       "                                  cluster        x0        x1  \n",
       "8    Personalization in cultural heritage  0.134971  0.030457  \n",
       "11   Personalization in cultural heritage  0.140302 -0.026779  \n",
       "13   Personalization in cultural heritage  0.128268  0.190896  \n",
       "22   Personalization in cultural heritage  0.121456 -0.067434  \n",
       "29   Personalization in cultural heritage  0.069804 -0.022866  \n",
       "45   Personalization in cultural heritage  0.199483 -0.060632  \n",
       "54   Personalization in cultural heritage  0.058612  0.223563  \n",
       "77   Personalization in cultural heritage -0.042623  0.153064  \n",
       "88   Personalization in cultural heritage  0.059443  0.253575  \n",
       "92   Personalization in cultural heritage  0.066114  0.173259  \n",
       "96   Personalization in cultural heritage  0.021207  0.069216  \n",
       "109  Personalization in cultural heritage -0.095902 -0.064293  \n",
       "117  Personalization in cultural heritage -0.033264 -0.054102  \n",
       "127  Personalization in cultural heritage -0.082689 -0.054745  \n",
       "135  Personalization in cultural heritage -0.035048 -0.037310  \n",
       "152                Mobile Tourists Guides -0.217255 -0.153407  \n",
       "170                   Eye tracking museum  0.336597 -0.179481  \n",
       "176   Augmented reality cultural heritage  0.010733  0.259269  \n",
       "190                Mobile Tourists Guides -0.262751 -0.159065  \n",
       "192                Mobile Tourists Guides -0.173913 -0.109559  \n",
       "193   Augmented reality cultural heritage -0.081194  0.511029  \n",
       "196                   Eye tracking museum  0.117234 -0.004729  "
      ]
     },
     "execution_count": 467,
     "metadata": {},
     "output_type": "execute_result"
    }
   ],
   "source": [
    "df[df['label']!=df['cluster']]"
   ]
  },
  {
   "cell_type": "markdown",
   "id": "b8c52190",
   "metadata": {},
   "source": [
    "We can see that Eye tracking museum has a the most documents which got affiliated to the wrong cluster, particularly to Personalization in cultural heritage cluster: \n",
    "- 7 Eye Tracking Museum documents were predicted as Personalization in cultural heritage.\n",
    "- 5 Augmented reality cultural heritage Documents were predicted as Personalization in cultural heritage. \n",
    "- 4 Mobile Tourists Guides\tDocuments were predicted as Personalization in cultural heritage. \n",
    "- 7  Personalization in cultural heritage were predicted as other clusters\n",
    "- Looking at the plot above, we can see that overlapping points between the two clusters, it can be that a document is closer to the another cluster\n",
    "- Most of the mispredicted  documents(i.e documents were clustered to the wrong clusters) are misclustered to the Personalization in cultural heritage, in addition 7 documents of this cluster were misclassified to other clusters wrongly with no particular cluster that dominated the wrong clusterings(no cluster of the other 3 had a lot of documents from Personalization in cultural heritage cluster compared to the other clusters).\n",
    "- By the visualization above we can see that this cluster have overlapping points with all other clusters, and it comes in the middle of the space model, which explaines why most of the misclustered documents were affiliated with it. <br> Documents of other clusters might have euclidean distance closer to the centroid of this cluster although they're part of other clusters, which can explain the cause of this affiliation. \n",
    "- Documents of clusters might be less relevant to the predefined cluster, or the document might even be suitable to be affiliated to more than one cluster with similarity to a single one higher than the other, this might cause the occurance of the wrong affiliations above "
   ]
  }
 ],
 "metadata": {
  "kernelspec": {
   "display_name": "Python 3 (ipykernel)",
   "language": "python",
   "name": "python3"
  },
  "language_info": {
   "codemirror_mode": {
    "name": "ipython",
    "version": 3
   },
   "file_extension": ".py",
   "mimetype": "text/x-python",
   "name": "python",
   "nbconvert_exporter": "python",
   "pygments_lexer": "ipython3",
   "version": "3.8.11"
  }
 },
 "nbformat": 4,
 "nbformat_minor": 5
}
